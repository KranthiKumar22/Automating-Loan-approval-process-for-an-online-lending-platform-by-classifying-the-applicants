{
 "cells": [
  {
   "cell_type": "code",
   "execution_count": 1,
   "id": "c9178927",
   "metadata": {},
   "outputs": [],
   "source": [
    "import numpy as np\n",
    "import pandas as pd\n",
    "import matplotlib.pyplot as plt\n",
    "import seaborn as sns\n",
    "from scipy import stats\n",
    "import warnings"
   ]
  },
  {
   "cell_type": "code",
   "execution_count": 2,
   "id": "e445624a",
   "metadata": {},
   "outputs": [],
   "source": [
    "pd.set_option('display.max_columns',100)"
   ]
  },
  {
   "cell_type": "code",
   "execution_count": 3,
   "id": "91d8aecb",
   "metadata": {},
   "outputs": [
    {
     "data": {
      "text/html": [
       "<div>\n",
       "<style scoped>\n",
       "    .dataframe tbody tr th:only-of-type {\n",
       "        vertical-align: middle;\n",
       "    }\n",
       "\n",
       "    .dataframe tbody tr th {\n",
       "        vertical-align: top;\n",
       "    }\n",
       "\n",
       "    .dataframe thead th {\n",
       "        text-align: right;\n",
       "    }\n",
       "</style>\n",
       "<table border=\"1\" class=\"dataframe\">\n",
       "  <thead>\n",
       "    <tr style=\"text-align: right;\">\n",
       "      <th></th>\n",
       "      <th>loan_amnt</th>\n",
       "      <th>term</th>\n",
       "      <th>int_rate</th>\n",
       "      <th>installment</th>\n",
       "      <th>grade</th>\n",
       "      <th>sub_grade</th>\n",
       "      <th>emp_title</th>\n",
       "      <th>emp_length</th>\n",
       "      <th>home_ownership</th>\n",
       "      <th>annual_inc</th>\n",
       "      <th>verification_status</th>\n",
       "      <th>issue_d</th>\n",
       "      <th>loan_status</th>\n",
       "      <th>purpose</th>\n",
       "      <th>title</th>\n",
       "      <th>dti</th>\n",
       "      <th>earliest_cr_line</th>\n",
       "      <th>open_acc</th>\n",
       "      <th>pub_rec</th>\n",
       "      <th>revol_bal</th>\n",
       "      <th>revol_util</th>\n",
       "      <th>total_acc</th>\n",
       "      <th>initial_list_status</th>\n",
       "      <th>application_type</th>\n",
       "      <th>mort_acc</th>\n",
       "      <th>pub_rec_bankruptcies</th>\n",
       "      <th>address</th>\n",
       "    </tr>\n",
       "  </thead>\n",
       "  <tbody>\n",
       "    <tr>\n",
       "      <th>0</th>\n",
       "      <td>10000.0</td>\n",
       "      <td>36 months</td>\n",
       "      <td>11.44</td>\n",
       "      <td>329.48</td>\n",
       "      <td>B</td>\n",
       "      <td>B4</td>\n",
       "      <td>Marketing</td>\n",
       "      <td>10+ years</td>\n",
       "      <td>RENT</td>\n",
       "      <td>117000.0</td>\n",
       "      <td>Not Verified</td>\n",
       "      <td>Jan-2015</td>\n",
       "      <td>Fully Paid</td>\n",
       "      <td>vacation</td>\n",
       "      <td>Vacation</td>\n",
       "      <td>26.24</td>\n",
       "      <td>Jun-1990</td>\n",
       "      <td>16.0</td>\n",
       "      <td>0.0</td>\n",
       "      <td>36369.0</td>\n",
       "      <td>41.8</td>\n",
       "      <td>25.0</td>\n",
       "      <td>w</td>\n",
       "      <td>INDIVIDUAL</td>\n",
       "      <td>0.0</td>\n",
       "      <td>0.0</td>\n",
       "      <td>0174 Michelle Gateway\\r\\nMendozaberg, OK 22690</td>\n",
       "    </tr>\n",
       "    <tr>\n",
       "      <th>1</th>\n",
       "      <td>8000.0</td>\n",
       "      <td>36 months</td>\n",
       "      <td>11.99</td>\n",
       "      <td>265.68</td>\n",
       "      <td>B</td>\n",
       "      <td>B5</td>\n",
       "      <td>Credit analyst</td>\n",
       "      <td>4 years</td>\n",
       "      <td>MORTGAGE</td>\n",
       "      <td>65000.0</td>\n",
       "      <td>Not Verified</td>\n",
       "      <td>Jan-2015</td>\n",
       "      <td>Fully Paid</td>\n",
       "      <td>debt_consolidation</td>\n",
       "      <td>Debt consolidation</td>\n",
       "      <td>22.05</td>\n",
       "      <td>Jul-2004</td>\n",
       "      <td>17.0</td>\n",
       "      <td>0.0</td>\n",
       "      <td>20131.0</td>\n",
       "      <td>53.3</td>\n",
       "      <td>27.0</td>\n",
       "      <td>f</td>\n",
       "      <td>INDIVIDUAL</td>\n",
       "      <td>3.0</td>\n",
       "      <td>0.0</td>\n",
       "      <td>1076 Carney Fort Apt. 347\\r\\nLoganmouth, SD 05113</td>\n",
       "    </tr>\n",
       "    <tr>\n",
       "      <th>2</th>\n",
       "      <td>15600.0</td>\n",
       "      <td>36 months</td>\n",
       "      <td>10.49</td>\n",
       "      <td>506.97</td>\n",
       "      <td>B</td>\n",
       "      <td>B3</td>\n",
       "      <td>Statistician</td>\n",
       "      <td>&lt; 1 year</td>\n",
       "      <td>RENT</td>\n",
       "      <td>43057.0</td>\n",
       "      <td>Source Verified</td>\n",
       "      <td>Jan-2015</td>\n",
       "      <td>Fully Paid</td>\n",
       "      <td>credit_card</td>\n",
       "      <td>Credit card refinancing</td>\n",
       "      <td>12.79</td>\n",
       "      <td>Aug-2007</td>\n",
       "      <td>13.0</td>\n",
       "      <td>0.0</td>\n",
       "      <td>11987.0</td>\n",
       "      <td>92.2</td>\n",
       "      <td>26.0</td>\n",
       "      <td>f</td>\n",
       "      <td>INDIVIDUAL</td>\n",
       "      <td>0.0</td>\n",
       "      <td>0.0</td>\n",
       "      <td>87025 Mark Dale Apt. 269\\r\\nNew Sabrina, WV 05113</td>\n",
       "    </tr>\n",
       "    <tr>\n",
       "      <th>3</th>\n",
       "      <td>7200.0</td>\n",
       "      <td>36 months</td>\n",
       "      <td>6.49</td>\n",
       "      <td>220.65</td>\n",
       "      <td>A</td>\n",
       "      <td>A2</td>\n",
       "      <td>Client Advocate</td>\n",
       "      <td>6 years</td>\n",
       "      <td>RENT</td>\n",
       "      <td>54000.0</td>\n",
       "      <td>Not Verified</td>\n",
       "      <td>Nov-2014</td>\n",
       "      <td>Fully Paid</td>\n",
       "      <td>credit_card</td>\n",
       "      <td>Credit card refinancing</td>\n",
       "      <td>2.60</td>\n",
       "      <td>Sep-2006</td>\n",
       "      <td>6.0</td>\n",
       "      <td>0.0</td>\n",
       "      <td>5472.0</td>\n",
       "      <td>21.5</td>\n",
       "      <td>13.0</td>\n",
       "      <td>f</td>\n",
       "      <td>INDIVIDUAL</td>\n",
       "      <td>0.0</td>\n",
       "      <td>0.0</td>\n",
       "      <td>823 Reid Ford\\r\\nDelacruzside, MA 00813</td>\n",
       "    </tr>\n",
       "    <tr>\n",
       "      <th>4</th>\n",
       "      <td>24375.0</td>\n",
       "      <td>60 months</td>\n",
       "      <td>17.27</td>\n",
       "      <td>609.33</td>\n",
       "      <td>C</td>\n",
       "      <td>C5</td>\n",
       "      <td>Destiny Management Inc.</td>\n",
       "      <td>9 years</td>\n",
       "      <td>MORTGAGE</td>\n",
       "      <td>55000.0</td>\n",
       "      <td>Verified</td>\n",
       "      <td>Apr-2013</td>\n",
       "      <td>Charged Off</td>\n",
       "      <td>credit_card</td>\n",
       "      <td>Credit Card Refinance</td>\n",
       "      <td>33.95</td>\n",
       "      <td>Mar-1999</td>\n",
       "      <td>13.0</td>\n",
       "      <td>0.0</td>\n",
       "      <td>24584.0</td>\n",
       "      <td>69.8</td>\n",
       "      <td>43.0</td>\n",
       "      <td>f</td>\n",
       "      <td>INDIVIDUAL</td>\n",
       "      <td>1.0</td>\n",
       "      <td>0.0</td>\n",
       "      <td>679 Luna Roads\\r\\nGreggshire, VA 11650</td>\n",
       "    </tr>\n",
       "    <tr>\n",
       "      <th>...</th>\n",
       "      <td>...</td>\n",
       "      <td>...</td>\n",
       "      <td>...</td>\n",
       "      <td>...</td>\n",
       "      <td>...</td>\n",
       "      <td>...</td>\n",
       "      <td>...</td>\n",
       "      <td>...</td>\n",
       "      <td>...</td>\n",
       "      <td>...</td>\n",
       "      <td>...</td>\n",
       "      <td>...</td>\n",
       "      <td>...</td>\n",
       "      <td>...</td>\n",
       "      <td>...</td>\n",
       "      <td>...</td>\n",
       "      <td>...</td>\n",
       "      <td>...</td>\n",
       "      <td>...</td>\n",
       "      <td>...</td>\n",
       "      <td>...</td>\n",
       "      <td>...</td>\n",
       "      <td>...</td>\n",
       "      <td>...</td>\n",
       "      <td>...</td>\n",
       "      <td>...</td>\n",
       "      <td>...</td>\n",
       "    </tr>\n",
       "    <tr>\n",
       "      <th>396025</th>\n",
       "      <td>10000.0</td>\n",
       "      <td>60 months</td>\n",
       "      <td>10.99</td>\n",
       "      <td>217.38</td>\n",
       "      <td>B</td>\n",
       "      <td>B4</td>\n",
       "      <td>licensed bankere</td>\n",
       "      <td>2 years</td>\n",
       "      <td>RENT</td>\n",
       "      <td>40000.0</td>\n",
       "      <td>Source Verified</td>\n",
       "      <td>Oct-2015</td>\n",
       "      <td>Fully Paid</td>\n",
       "      <td>debt_consolidation</td>\n",
       "      <td>Debt consolidation</td>\n",
       "      <td>15.63</td>\n",
       "      <td>Nov-2004</td>\n",
       "      <td>6.0</td>\n",
       "      <td>0.0</td>\n",
       "      <td>1990.0</td>\n",
       "      <td>34.3</td>\n",
       "      <td>23.0</td>\n",
       "      <td>w</td>\n",
       "      <td>INDIVIDUAL</td>\n",
       "      <td>0.0</td>\n",
       "      <td>0.0</td>\n",
       "      <td>12951 Williams Crossing\\r\\nJohnnyville, DC 30723</td>\n",
       "    </tr>\n",
       "    <tr>\n",
       "      <th>396026</th>\n",
       "      <td>21000.0</td>\n",
       "      <td>36 months</td>\n",
       "      <td>12.29</td>\n",
       "      <td>700.42</td>\n",
       "      <td>C</td>\n",
       "      <td>C1</td>\n",
       "      <td>Agent</td>\n",
       "      <td>5 years</td>\n",
       "      <td>MORTGAGE</td>\n",
       "      <td>110000.0</td>\n",
       "      <td>Source Verified</td>\n",
       "      <td>Feb-2015</td>\n",
       "      <td>Fully Paid</td>\n",
       "      <td>debt_consolidation</td>\n",
       "      <td>Debt consolidation</td>\n",
       "      <td>21.45</td>\n",
       "      <td>Feb-2006</td>\n",
       "      <td>6.0</td>\n",
       "      <td>0.0</td>\n",
       "      <td>43263.0</td>\n",
       "      <td>95.7</td>\n",
       "      <td>8.0</td>\n",
       "      <td>f</td>\n",
       "      <td>INDIVIDUAL</td>\n",
       "      <td>1.0</td>\n",
       "      <td>0.0</td>\n",
       "      <td>0114 Fowler Field Suite 028\\r\\nRachelborough, ...</td>\n",
       "    </tr>\n",
       "    <tr>\n",
       "      <th>396027</th>\n",
       "      <td>5000.0</td>\n",
       "      <td>36 months</td>\n",
       "      <td>9.99</td>\n",
       "      <td>161.32</td>\n",
       "      <td>B</td>\n",
       "      <td>B1</td>\n",
       "      <td>City Carrier</td>\n",
       "      <td>10+ years</td>\n",
       "      <td>RENT</td>\n",
       "      <td>56500.0</td>\n",
       "      <td>Verified</td>\n",
       "      <td>Oct-2013</td>\n",
       "      <td>Fully Paid</td>\n",
       "      <td>debt_consolidation</td>\n",
       "      <td>pay off credit cards</td>\n",
       "      <td>17.56</td>\n",
       "      <td>Mar-1997</td>\n",
       "      <td>15.0</td>\n",
       "      <td>0.0</td>\n",
       "      <td>32704.0</td>\n",
       "      <td>66.9</td>\n",
       "      <td>23.0</td>\n",
       "      <td>f</td>\n",
       "      <td>INDIVIDUAL</td>\n",
       "      <td>0.0</td>\n",
       "      <td>0.0</td>\n",
       "      <td>953 Matthew Points Suite 414\\r\\nReedfort, NY 7...</td>\n",
       "    </tr>\n",
       "    <tr>\n",
       "      <th>396028</th>\n",
       "      <td>21000.0</td>\n",
       "      <td>60 months</td>\n",
       "      <td>15.31</td>\n",
       "      <td>503.02</td>\n",
       "      <td>C</td>\n",
       "      <td>C2</td>\n",
       "      <td>Gracon Services, Inc</td>\n",
       "      <td>10+ years</td>\n",
       "      <td>MORTGAGE</td>\n",
       "      <td>64000.0</td>\n",
       "      <td>Verified</td>\n",
       "      <td>Aug-2012</td>\n",
       "      <td>Fully Paid</td>\n",
       "      <td>debt_consolidation</td>\n",
       "      <td>Loanforpayoff</td>\n",
       "      <td>15.88</td>\n",
       "      <td>Nov-1990</td>\n",
       "      <td>9.0</td>\n",
       "      <td>0.0</td>\n",
       "      <td>15704.0</td>\n",
       "      <td>53.8</td>\n",
       "      <td>20.0</td>\n",
       "      <td>f</td>\n",
       "      <td>INDIVIDUAL</td>\n",
       "      <td>5.0</td>\n",
       "      <td>0.0</td>\n",
       "      <td>7843 Blake Freeway Apt. 229\\r\\nNew Michael, FL...</td>\n",
       "    </tr>\n",
       "    <tr>\n",
       "      <th>396029</th>\n",
       "      <td>2000.0</td>\n",
       "      <td>36 months</td>\n",
       "      <td>13.61</td>\n",
       "      <td>67.98</td>\n",
       "      <td>C</td>\n",
       "      <td>C2</td>\n",
       "      <td>Internal Revenue Service</td>\n",
       "      <td>10+ years</td>\n",
       "      <td>RENT</td>\n",
       "      <td>42996.0</td>\n",
       "      <td>Verified</td>\n",
       "      <td>Jun-2010</td>\n",
       "      <td>Fully Paid</td>\n",
       "      <td>debt_consolidation</td>\n",
       "      <td>Toxic Debt Payoff</td>\n",
       "      <td>8.32</td>\n",
       "      <td>Sep-1998</td>\n",
       "      <td>3.0</td>\n",
       "      <td>0.0</td>\n",
       "      <td>4292.0</td>\n",
       "      <td>91.3</td>\n",
       "      <td>19.0</td>\n",
       "      <td>f</td>\n",
       "      <td>INDIVIDUAL</td>\n",
       "      <td>NaN</td>\n",
       "      <td>0.0</td>\n",
       "      <td>787 Michelle Causeway\\r\\nBriannaton, AR 48052</td>\n",
       "    </tr>\n",
       "  </tbody>\n",
       "</table>\n",
       "<p>396030 rows × 27 columns</p>\n",
       "</div>"
      ],
      "text/plain": [
       "        loan_amnt        term  int_rate  installment grade sub_grade  \\\n",
       "0         10000.0   36 months     11.44       329.48     B        B4   \n",
       "1          8000.0   36 months     11.99       265.68     B        B5   \n",
       "2         15600.0   36 months     10.49       506.97     B        B3   \n",
       "3          7200.0   36 months      6.49       220.65     A        A2   \n",
       "4         24375.0   60 months     17.27       609.33     C        C5   \n",
       "...           ...         ...       ...          ...   ...       ...   \n",
       "396025    10000.0   60 months     10.99       217.38     B        B4   \n",
       "396026    21000.0   36 months     12.29       700.42     C        C1   \n",
       "396027     5000.0   36 months      9.99       161.32     B        B1   \n",
       "396028    21000.0   60 months     15.31       503.02     C        C2   \n",
       "396029     2000.0   36 months     13.61        67.98     C        C2   \n",
       "\n",
       "                       emp_title emp_length home_ownership  annual_inc  \\\n",
       "0                      Marketing  10+ years           RENT    117000.0   \n",
       "1                Credit analyst     4 years       MORTGAGE     65000.0   \n",
       "2                   Statistician   < 1 year           RENT     43057.0   \n",
       "3                Client Advocate    6 years           RENT     54000.0   \n",
       "4        Destiny Management Inc.    9 years       MORTGAGE     55000.0   \n",
       "...                          ...        ...            ...         ...   \n",
       "396025          licensed bankere    2 years           RENT     40000.0   \n",
       "396026                     Agent    5 years       MORTGAGE    110000.0   \n",
       "396027              City Carrier  10+ years           RENT     56500.0   \n",
       "396028      Gracon Services, Inc  10+ years       MORTGAGE     64000.0   \n",
       "396029  Internal Revenue Service  10+ years           RENT     42996.0   \n",
       "\n",
       "       verification_status   issue_d  loan_status             purpose  \\\n",
       "0             Not Verified  Jan-2015   Fully Paid            vacation   \n",
       "1             Not Verified  Jan-2015   Fully Paid  debt_consolidation   \n",
       "2          Source Verified  Jan-2015   Fully Paid         credit_card   \n",
       "3             Not Verified  Nov-2014   Fully Paid         credit_card   \n",
       "4                 Verified  Apr-2013  Charged Off         credit_card   \n",
       "...                    ...       ...          ...                 ...   \n",
       "396025     Source Verified  Oct-2015   Fully Paid  debt_consolidation   \n",
       "396026     Source Verified  Feb-2015   Fully Paid  debt_consolidation   \n",
       "396027            Verified  Oct-2013   Fully Paid  debt_consolidation   \n",
       "396028            Verified  Aug-2012   Fully Paid  debt_consolidation   \n",
       "396029            Verified  Jun-2010   Fully Paid  debt_consolidation   \n",
       "\n",
       "                          title    dti earliest_cr_line  open_acc  pub_rec  \\\n",
       "0                      Vacation  26.24         Jun-1990      16.0      0.0   \n",
       "1            Debt consolidation  22.05         Jul-2004      17.0      0.0   \n",
       "2       Credit card refinancing  12.79         Aug-2007      13.0      0.0   \n",
       "3       Credit card refinancing   2.60         Sep-2006       6.0      0.0   \n",
       "4         Credit Card Refinance  33.95         Mar-1999      13.0      0.0   \n",
       "...                         ...    ...              ...       ...      ...   \n",
       "396025       Debt consolidation  15.63         Nov-2004       6.0      0.0   \n",
       "396026       Debt consolidation  21.45         Feb-2006       6.0      0.0   \n",
       "396027     pay off credit cards  17.56         Mar-1997      15.0      0.0   \n",
       "396028            Loanforpayoff  15.88         Nov-1990       9.0      0.0   \n",
       "396029        Toxic Debt Payoff   8.32         Sep-1998       3.0      0.0   \n",
       "\n",
       "        revol_bal  revol_util  total_acc initial_list_status application_type  \\\n",
       "0         36369.0        41.8       25.0                   w       INDIVIDUAL   \n",
       "1         20131.0        53.3       27.0                   f       INDIVIDUAL   \n",
       "2         11987.0        92.2       26.0                   f       INDIVIDUAL   \n",
       "3          5472.0        21.5       13.0                   f       INDIVIDUAL   \n",
       "4         24584.0        69.8       43.0                   f       INDIVIDUAL   \n",
       "...           ...         ...        ...                 ...              ...   \n",
       "396025     1990.0        34.3       23.0                   w       INDIVIDUAL   \n",
       "396026    43263.0        95.7        8.0                   f       INDIVIDUAL   \n",
       "396027    32704.0        66.9       23.0                   f       INDIVIDUAL   \n",
       "396028    15704.0        53.8       20.0                   f       INDIVIDUAL   \n",
       "396029     4292.0        91.3       19.0                   f       INDIVIDUAL   \n",
       "\n",
       "        mort_acc  pub_rec_bankruptcies  \\\n",
       "0            0.0                   0.0   \n",
       "1            3.0                   0.0   \n",
       "2            0.0                   0.0   \n",
       "3            0.0                   0.0   \n",
       "4            1.0                   0.0   \n",
       "...          ...                   ...   \n",
       "396025       0.0                   0.0   \n",
       "396026       1.0                   0.0   \n",
       "396027       0.0                   0.0   \n",
       "396028       5.0                   0.0   \n",
       "396029       NaN                   0.0   \n",
       "\n",
       "                                                  address  \n",
       "0          0174 Michelle Gateway\\r\\nMendozaberg, OK 22690  \n",
       "1       1076 Carney Fort Apt. 347\\r\\nLoganmouth, SD 05113  \n",
       "2       87025 Mark Dale Apt. 269\\r\\nNew Sabrina, WV 05113  \n",
       "3                 823 Reid Ford\\r\\nDelacruzside, MA 00813  \n",
       "4                  679 Luna Roads\\r\\nGreggshire, VA 11650  \n",
       "...                                                   ...  \n",
       "396025   12951 Williams Crossing\\r\\nJohnnyville, DC 30723  \n",
       "396026  0114 Fowler Field Suite 028\\r\\nRachelborough, ...  \n",
       "396027  953 Matthew Points Suite 414\\r\\nReedfort, NY 7...  \n",
       "396028  7843 Blake Freeway Apt. 229\\r\\nNew Michael, FL...  \n",
       "396029      787 Michelle Causeway\\r\\nBriannaton, AR 48052  \n",
       "\n",
       "[396030 rows x 27 columns]"
      ]
     },
     "execution_count": 3,
     "metadata": {},
     "output_type": "execute_result"
    }
   ],
   "source": [
    "df=pd.read_csv(\"logistic_regression.csv\")\n",
    "df"
   ]
  },
  {
   "cell_type": "markdown",
   "id": "1b7bf87c",
   "metadata": {},
   "source": [
    "### Basic data exploration"
   ]
  },
  {
   "cell_type": "code",
   "execution_count": 4,
   "id": "4daa560f",
   "metadata": {},
   "outputs": [
    {
     "name": "stdout",
     "output_type": "stream",
     "text": [
      "Number of Rows:  396030\n",
      "Number of Columns:  27\n"
     ]
    }
   ],
   "source": [
    "print(\"Number of Rows: \",df.shape[0])\n",
    "print(\"Number of Columns: \",df.shape[1])"
   ]
  },
  {
   "cell_type": "code",
   "execution_count": 5,
   "id": "5ac0d393",
   "metadata": {},
   "outputs": [
    {
     "name": "stdout",
     "output_type": "stream",
     "text": [
      "<class 'pandas.core.frame.DataFrame'>\n",
      "RangeIndex: 396030 entries, 0 to 396029\n",
      "Data columns (total 27 columns):\n",
      " #   Column                Non-Null Count   Dtype  \n",
      "---  ------                --------------   -----  \n",
      " 0   loan_amnt             396030 non-null  float64\n",
      " 1   term                  396030 non-null  object \n",
      " 2   int_rate              396030 non-null  float64\n",
      " 3   installment           396030 non-null  float64\n",
      " 4   grade                 396030 non-null  object \n",
      " 5   sub_grade             396030 non-null  object \n",
      " 6   emp_title             373103 non-null  object \n",
      " 7   emp_length            377729 non-null  object \n",
      " 8   home_ownership        396030 non-null  object \n",
      " 9   annual_inc            396030 non-null  float64\n",
      " 10  verification_status   396030 non-null  object \n",
      " 11  issue_d               396030 non-null  object \n",
      " 12  loan_status           396030 non-null  object \n",
      " 13  purpose               396030 non-null  object \n",
      " 14  title                 394274 non-null  object \n",
      " 15  dti                   396030 non-null  float64\n",
      " 16  earliest_cr_line      396030 non-null  object \n",
      " 17  open_acc              396030 non-null  float64\n",
      " 18  pub_rec               396030 non-null  float64\n",
      " 19  revol_bal             396030 non-null  float64\n",
      " 20  revol_util            395754 non-null  float64\n",
      " 21  total_acc             396030 non-null  float64\n",
      " 22  initial_list_status   396030 non-null  object \n",
      " 23  application_type      396030 non-null  object \n",
      " 24  mort_acc              358235 non-null  float64\n",
      " 25  pub_rec_bankruptcies  395495 non-null  float64\n",
      " 26  address               396030 non-null  object \n",
      "dtypes: float64(12), object(15)\n",
      "memory usage: 81.6+ MB\n"
     ]
    }
   ],
   "source": [
    "df.info()"
   ]
  },
  {
   "cell_type": "code",
   "execution_count": 6,
   "id": "a39b2e8b",
   "metadata": {},
   "outputs": [
    {
     "data": {
      "text/plain": [
       "loan_amnt                   0\n",
       "term                        0\n",
       "int_rate                    0\n",
       "installment                 0\n",
       "grade                       0\n",
       "sub_grade                   0\n",
       "emp_title               22927\n",
       "emp_length              18301\n",
       "home_ownership              0\n",
       "annual_inc                  0\n",
       "verification_status         0\n",
       "issue_d                     0\n",
       "loan_status                 0\n",
       "purpose                     0\n",
       "title                    1756\n",
       "dti                         0\n",
       "earliest_cr_line            0\n",
       "open_acc                    0\n",
       "pub_rec                     0\n",
       "revol_bal                   0\n",
       "revol_util                276\n",
       "total_acc                   0\n",
       "initial_list_status         0\n",
       "application_type            0\n",
       "mort_acc                37795\n",
       "pub_rec_bankruptcies      535\n",
       "address                     0\n",
       "dtype: int64"
      ]
     },
     "execution_count": 6,
     "metadata": {},
     "output_type": "execute_result"
    }
   ],
   "source": [
    "df.isnull().sum()"
   ]
  },
  {
   "cell_type": "code",
   "execution_count": 7,
   "id": "7db37909",
   "metadata": {},
   "outputs": [
    {
     "data": {
      "text/plain": [
       "(500.0, 40000.0)"
      ]
     },
     "execution_count": 7,
     "metadata": {},
     "output_type": "execute_result"
    }
   ],
   "source": [
    "df['loan_amnt'].min(), df['loan_amnt'].max()"
   ]
  },
  {
   "cell_type": "markdown",
   "id": "6daac433",
   "metadata": {},
   "source": [
    "The loan amount is varying from 500 to 40,000."
   ]
  },
  {
   "cell_type": "code",
   "execution_count": 8,
   "id": "f5ab6fbc",
   "metadata": {},
   "outputs": [
    {
     "data": {
      "text/plain": [
       "loan_status\n",
       "Fully Paid     80.387092\n",
       "Charged Off    19.612908\n",
       "Name: proportion, dtype: float64"
      ]
     },
     "execution_count": 8,
     "metadata": {},
     "output_type": "execute_result"
    }
   ],
   "source": [
    "df['loan_status'].value_counts(normalize=True)*100"
   ]
  },
  {
   "cell_type": "markdown",
   "id": "06a4dbf7",
   "metadata": {},
   "source": [
    "- Nearly 20% of the loans are charged off.\n",
    "- The provided data is 'imbalancced'"
   ]
  },
  {
   "cell_type": "code",
   "execution_count": 9,
   "id": "053632f1",
   "metadata": {},
   "outputs": [
    {
     "data": {
      "text/html": [
       "<div>\n",
       "<style scoped>\n",
       "    .dataframe tbody tr th:only-of-type {\n",
       "        vertical-align: middle;\n",
       "    }\n",
       "\n",
       "    .dataframe tbody tr th {\n",
       "        vertical-align: top;\n",
       "    }\n",
       "\n",
       "    .dataframe thead th {\n",
       "        text-align: right;\n",
       "    }\n",
       "</style>\n",
       "<table border=\"1\" class=\"dataframe\">\n",
       "  <thead>\n",
       "    <tr style=\"text-align: right;\">\n",
       "      <th></th>\n",
       "      <th>count</th>\n",
       "      <th>mean</th>\n",
       "      <th>std</th>\n",
       "      <th>min</th>\n",
       "      <th>25%</th>\n",
       "      <th>50%</th>\n",
       "      <th>75%</th>\n",
       "      <th>max</th>\n",
       "    </tr>\n",
       "    <tr>\n",
       "      <th>loan_status</th>\n",
       "      <th></th>\n",
       "      <th></th>\n",
       "      <th></th>\n",
       "      <th></th>\n",
       "      <th></th>\n",
       "      <th></th>\n",
       "      <th></th>\n",
       "      <th></th>\n",
       "    </tr>\n",
       "  </thead>\n",
       "  <tbody>\n",
       "    <tr>\n",
       "      <th>Charged Off</th>\n",
       "      <td>77673.0</td>\n",
       "      <td>15126.300967</td>\n",
       "      <td>8505.090557</td>\n",
       "      <td>1000.0</td>\n",
       "      <td>8525.0</td>\n",
       "      <td>14000.0</td>\n",
       "      <td>20000.0</td>\n",
       "      <td>40000.0</td>\n",
       "    </tr>\n",
       "    <tr>\n",
       "      <th>Fully Paid</th>\n",
       "      <td>318357.0</td>\n",
       "      <td>13866.878771</td>\n",
       "      <td>8302.319699</td>\n",
       "      <td>500.0</td>\n",
       "      <td>7500.0</td>\n",
       "      <td>12000.0</td>\n",
       "      <td>19225.0</td>\n",
       "      <td>40000.0</td>\n",
       "    </tr>\n",
       "  </tbody>\n",
       "</table>\n",
       "</div>"
      ],
      "text/plain": [
       "                count          mean          std     min     25%      50%  \\\n",
       "loan_status                                                                 \n",
       "Charged Off   77673.0  15126.300967  8505.090557  1000.0  8525.0  14000.0   \n",
       "Fully Paid   318357.0  13866.878771  8302.319699   500.0  7500.0  12000.0   \n",
       "\n",
       "                 75%      max  \n",
       "loan_status                    \n",
       "Charged Off  20000.0  40000.0  \n",
       "Fully Paid   19225.0  40000.0  "
      ]
     },
     "execution_count": 9,
     "metadata": {},
     "output_type": "execute_result"
    }
   ],
   "source": [
    "df.groupby('loan_status')['loan_amnt'].describe()"
   ]
  },
  {
   "cell_type": "markdown",
   "id": "3fc228b0",
   "metadata": {},
   "source": [
    "The charged off loans had higher mean and standard deviation values compared to the fully paid loans."
   ]
  },
  {
   "cell_type": "code",
   "execution_count": 10,
   "id": "620a07c6",
   "metadata": {
    "scrolled": true
   },
   "outputs": [
    {
     "data": {
      "text/plain": [
       "term\n",
       " 36 months    76.258112\n",
       " 60 months    23.741888\n",
       "Name: proportion, dtype: float64"
      ]
     },
     "execution_count": 10,
     "metadata": {},
     "output_type": "execute_result"
    }
   ],
   "source": [
    "df['term'].value_counts(normalize=True)*100"
   ]
  },
  {
   "cell_type": "markdown",
   "id": "e879d8d5",
   "metadata": {},
   "source": [
    "More than 3/4th of the customers have opted for a shorter term loan."
   ]
  },
  {
   "cell_type": "code",
   "execution_count": 11,
   "id": "bf0d8c69",
   "metadata": {},
   "outputs": [
    {
     "data": {
      "text/plain": [
       "grade\n",
       "B    29.295255\n",
       "C    26.762366\n",
       "A    16.207611\n",
       "D    16.040199\n",
       "E     7.950913\n",
       "F     2.972502\n",
       "G     0.771154\n",
       "Name: proportion, dtype: float64"
      ]
     },
     "execution_count": 11,
     "metadata": {},
     "output_type": "execute_result"
    }
   ],
   "source": [
    "df['grade'].value_counts(normalize=True)*100"
   ]
  },
  {
   "cell_type": "code",
   "execution_count": 12,
   "id": "a728937a",
   "metadata": {},
   "outputs": [
    {
     "data": {
      "text/plain": [
       "home_ownership\n",
       "MORTGAGE    50.084085\n",
       "RENT        40.347953\n",
       "OWN          9.531096\n",
       "OTHER        0.028281\n",
       "NONE         0.007828\n",
       "ANY          0.000758\n",
       "Name: proportion, dtype: float64"
      ]
     },
     "execution_count": 12,
     "metadata": {},
     "output_type": "execute_result"
    }
   ],
   "source": [
    "df['home_ownership'].value_counts(normalize = True)*100"
   ]
  },
  {
   "cell_type": "code",
   "execution_count": 13,
   "id": "9c191bd1",
   "metadata": {
    "scrolled": true
   },
   "outputs": [
    {
     "data": {
      "text/plain": [
       "home_ownership\n",
       "MORTGAGE    198348\n",
       "RENT        159790\n",
       "OWN          37746\n",
       "OTHER          112\n",
       "NONE            31\n",
       "ANY              3\n",
       "Name: count, dtype: int64"
      ]
     },
     "execution_count": 13,
     "metadata": {},
     "output_type": "execute_result"
    }
   ],
   "source": [
    "df['home_ownership'].value_counts()"
   ]
  },
  {
   "cell_type": "markdown",
   "id": "93a1088b",
   "metadata": {},
   "source": [
    "In the home ownership column, there are 3 different entries that doesnt really give us any information. So, let's merge these into one."
   ]
  },
  {
   "cell_type": "code",
   "execution_count": 14,
   "id": "19f99f1a",
   "metadata": {},
   "outputs": [],
   "source": [
    "df.loc[(df.home_ownership=='ANY') | (df.home_ownership=='NONE'), 'home_ownership'] = 'OTHER'"
   ]
  },
  {
   "cell_type": "code",
   "execution_count": 15,
   "id": "b506ad40",
   "metadata": {},
   "outputs": [
    {
     "data": {
      "text/plain": [
       "home_ownership\n",
       "MORTGAGE    198348\n",
       "RENT        159790\n",
       "OWN          37746\n",
       "OTHER          146\n",
       "Name: count, dtype: int64"
      ]
     },
     "execution_count": 15,
     "metadata": {},
     "output_type": "execute_result"
    }
   ],
   "source": [
    "df['home_ownership'].value_counts()"
   ]
  },
  {
   "cell_type": "code",
   "execution_count": 134,
   "id": "cae5e855",
   "metadata": {
    "scrolled": false
   },
   "outputs": [],
   "source": [
    "# Changing the data type format of the date columns to Datetime.\n",
    "\n",
    "df['issue_d']= pd.to_datetime(df['issue_d'])\n",
    "df['earliest_cr_line']= pd.to_datetime(df['earliest_cr_line'])"
   ]
  },
  {
   "cell_type": "code",
   "execution_count": 17,
   "id": "3159326b",
   "metadata": {},
   "outputs": [
    {
     "name": "stdout",
     "output_type": "stream",
     "text": [
      "<class 'pandas.core.frame.DataFrame'>\n",
      "RangeIndex: 396030 entries, 0 to 396029\n",
      "Data columns (total 27 columns):\n",
      " #   Column                Non-Null Count   Dtype         \n",
      "---  ------                --------------   -----         \n",
      " 0   loan_amnt             396030 non-null  float64       \n",
      " 1   term                  396030 non-null  object        \n",
      " 2   int_rate              396030 non-null  float64       \n",
      " 3   installment           396030 non-null  float64       \n",
      " 4   grade                 396030 non-null  object        \n",
      " 5   sub_grade             396030 non-null  object        \n",
      " 6   emp_title             373103 non-null  object        \n",
      " 7   emp_length            377729 non-null  object        \n",
      " 8   home_ownership        396030 non-null  object        \n",
      " 9   annual_inc            396030 non-null  float64       \n",
      " 10  verification_status   396030 non-null  object        \n",
      " 11  issue_d               396030 non-null  datetime64[ns]\n",
      " 12  loan_status           396030 non-null  object        \n",
      " 13  purpose               396030 non-null  object        \n",
      " 14  title                 394274 non-null  object        \n",
      " 15  dti                   396030 non-null  float64       \n",
      " 16  earliest_cr_line      396030 non-null  datetime64[ns]\n",
      " 17  open_acc              396030 non-null  float64       \n",
      " 18  pub_rec               396030 non-null  float64       \n",
      " 19  revol_bal             396030 non-null  float64       \n",
      " 20  revol_util            395754 non-null  float64       \n",
      " 21  total_acc             396030 non-null  float64       \n",
      " 22  initial_list_status   396030 non-null  object        \n",
      " 23  application_type      396030 non-null  object        \n",
      " 24  mort_acc              358235 non-null  float64       \n",
      " 25  pub_rec_bankruptcies  395495 non-null  float64       \n",
      " 26  address               396030 non-null  object        \n",
      "dtypes: datetime64[ns](2), float64(12), object(13)\n",
      "memory usage: 81.6+ MB\n"
     ]
    }
   ],
   "source": [
    "df.info()"
   ]
  },
  {
   "cell_type": "code",
   "execution_count": 18,
   "id": "3e2187cc",
   "metadata": {},
   "outputs": [
    {
     "data": {
      "text/plain": [
       "48816"
      ]
     },
     "execution_count": 18,
     "metadata": {},
     "output_type": "execute_result"
    }
   ],
   "source": [
    "df['title'].nunique()"
   ]
  },
  {
   "cell_type": "code",
   "execution_count": 19,
   "id": "e4626b90",
   "metadata": {},
   "outputs": [
    {
     "data": {
      "text/plain": [
       "title\n",
       "Debt consolidation           152472\n",
       "Credit card refinancing       51487\n",
       "Home improvement              15264\n",
       "Other                         12930\n",
       "Debt Consolidation            11608\n",
       "Major purchase                 4769\n",
       "Consolidation                  3852\n",
       "debt consolidation             3547\n",
       "Business                       2949\n",
       "Debt Consolidation Loan        2864\n",
       "Medical expenses               2742\n",
       "Car financing                  2139\n",
       "Credit Card Consolidation      1775\n",
       "Vacation                       1717\n",
       "Moving and relocation          1689\n",
       "Name: count, dtype: int64"
      ]
     },
     "execution_count": 19,
     "metadata": {},
     "output_type": "execute_result"
    }
   ],
   "source": [
    "df['title'].value_counts()[:15]"
   ]
  },
  {
   "cell_type": "code",
   "execution_count": 20,
   "id": "daf8a590",
   "metadata": {},
   "outputs": [],
   "source": [
    "# changing the title column to lowercase as there are some entries that only differ in the formatting.\n",
    "\n",
    "df['title'] = df.title.str.lower()"
   ]
  },
  {
   "cell_type": "code",
   "execution_count": 21,
   "id": "fd51834d",
   "metadata": {},
   "outputs": [],
   "source": [
    "# Changing debt consolidation loan entry to debt consolidation.\n",
    "\n",
    "df.loc[(df.title=='debt consolidation loan'),'title']= 'debt consolidation'"
   ]
  },
  {
   "cell_type": "code",
   "execution_count": 22,
   "id": "3a2783a6",
   "metadata": {},
   "outputs": [],
   "source": [
    "# Changing credit card refinance entry to credit card refinancing.\n",
    "\n",
    "df.loc[(df.title=='credit card refinance'),'title']= 'credit card refinancing'"
   ]
  },
  {
   "cell_type": "code",
   "execution_count": 23,
   "id": "e41a1477",
   "metadata": {},
   "outputs": [
    {
     "data": {
      "text/plain": [
       "title\n",
       "debt consolidation           171621\n",
       "credit card refinancing       53613\n",
       "home improvement              17117\n",
       "other                         12993\n",
       "consolidation                  5583\n",
       "major purchase                 4998\n",
       "business                       3017\n",
       "medical expenses               2820\n",
       "credit card consolidation      2638\n",
       "personal loan                  2460\n",
       "car financing                  2160\n",
       "credit card payoff             1904\n",
       "consolidation loan             1887\n",
       "vacation                       1866\n",
       "moving and relocation          1693\n",
       "Name: count, dtype: int64"
      ]
     },
     "execution_count": 23,
     "metadata": {},
     "output_type": "execute_result"
    }
   ],
   "source": [
    "df['title'].value_counts()[:15]"
   ]
  },
  {
   "cell_type": "code",
   "execution_count": 24,
   "id": "c8ccb86b",
   "metadata": {},
   "outputs": [
    {
     "data": {
      "text/plain": [
       "application_type\n",
       "INDIVIDUAL    395319\n",
       "JOINT            425\n",
       "DIRECT_PAY       286\n",
       "Name: count, dtype: int64"
      ]
     },
     "execution_count": 24,
     "metadata": {},
     "output_type": "execute_result"
    }
   ],
   "source": [
    "df['application_type'].value_counts()"
   ]
  },
  {
   "cell_type": "code",
   "execution_count": 25,
   "id": "7f77acfd",
   "metadata": {},
   "outputs": [
    {
     "data": {
      "text/plain": [
       "loan_status\n",
       "Charged Off    19.656346\n",
       "Fully Paid     16.824010\n",
       "Name: dti, dtype: float64"
      ]
     },
     "execution_count": 25,
     "metadata": {},
     "output_type": "execute_result"
    }
   ],
   "source": [
    "df.groupby('loan_status')['dti'].mean()"
   ]
  },
  {
   "cell_type": "markdown",
   "id": "a5b2798e",
   "metadata": {},
   "source": [
    "Mean debt to income ratio is slightly higher for the charged off loans."
   ]
  },
  {
   "cell_type": "markdown",
   "id": "93ca3188",
   "metadata": {},
   "source": [
    "### Bivariate & Multivariate analysis"
   ]
  },
  {
   "cell_type": "code",
   "execution_count": 132,
   "id": "0e943da9",
   "metadata": {},
   "outputs": [
    {
     "data": {
      "image/png": "[encoded data removed]",
      "text/plain": [
       "<Figure size 576x432 with 1 Axes>"
      ]
     },
     "metadata": {
      "needs_background": "light"
     },
     "output_type": "display_data"
    }
   ],
   "source": [
    "plt.figure(figsize=(8,6))\n",
    "sns.kdeplot(data=df, x='annual_inc', hue='loan_status', fill=True, common_norm=False)\n",
    "plt.show()"
   ]
  },
  {
   "cell_type": "markdown",
   "id": "c123f150",
   "metadata": {},
   "source": [
    "- Annual income distribution seems to be similar for both fully paid and charged off loans."
   ]
  },
  {
   "cell_type": "code",
   "execution_count": 26,
   "id": "288181d6",
   "metadata": {},
   "outputs": [
    {
     "data": {
      "image/png": "[encoded data removed]",
      "text/plain": [
       "<Figure size 1296x360 with 3 Axes>"
      ]
     },
     "metadata": {
      "needs_background": "light"
     },
     "output_type": "display_data"
    }
   ],
   "source": [
    "plt.figure(figsize=(18,5))\n",
    "plt.subplot(1,3,1)\n",
    "sns.countplot(x='term',data=df,hue='loan_status')\n",
    "\n",
    "plt.subplot(1,3,2)\n",
    "sns.countplot(x='home_ownership',data=df,hue='loan_status')\n",
    "\n",
    "plt.subplot(1,3,3)\n",
    "sns.countplot(x='verification_status',data=df,hue='loan_status')\n",
    "\n",
    "plt.tight_layout()\n",
    "plt.show()"
   ]
  },
  {
   "cell_type": "markdown",
   "id": "be80591a",
   "metadata": {},
   "source": [
    "- The percentage of charged off loans is higher for 60 month tenure."
   ]
  },
  {
   "cell_type": "code",
   "execution_count": 27,
   "id": "e5902334",
   "metadata": {},
   "outputs": [
    {
     "data": {
      "image/png": "[encoded data removed]",
      "text/plain": [
       "<Figure size 1152x576 with 2 Axes>"
      ]
     },
     "metadata": {
      "needs_background": "light"
     },
     "output_type": "display_data"
    }
   ],
   "source": [
    "plt.figure(figsize=(16,8))\n",
    "plt.subplot(1,2,1)\n",
    "grade=sorted(df.grade.unique().tolist())\n",
    "sns.countplot(data=df, x='grade',hue='loan_status', order=grade)\n",
    "\n",
    "plt.subplot(1,2,2)\n",
    "sub_grade=sorted(df.sub_grade.unique().tolist())\n",
    "sns.countplot(data=df, x='sub_grade',hue='loan_status', order=sub_grade)\n",
    "\n",
    "plt.tight_layout()\n",
    "plt.show()"
   ]
  },
  {
   "cell_type": "markdown",
   "id": "2996d359",
   "metadata": {},
   "source": [
    "- The worst performing loans are of grade 'G' followed by 'F', 'E' and 'D'."
   ]
  },
  {
   "cell_type": "code",
   "execution_count": 28,
   "id": "797c6fcd",
   "metadata": {},
   "outputs": [
    {
     "data": {
      "text/plain": [
       "grade  loan_status\n",
       "A      Fully Paid     93.712122\n",
       "       Charged Off     6.287878\n",
       "B      Fully Paid     87.426951\n",
       "       Charged Off    12.573049\n",
       "C      Fully Paid     78.819100\n",
       "       Charged Off    21.180900\n",
       "D      Fully Paid     71.132171\n",
       "       Charged Off    28.867829\n",
       "E      Fully Paid     62.636560\n",
       "       Charged Off    37.363440\n",
       "F      Fully Paid     57.212029\n",
       "       Charged Off    42.787971\n",
       "G      Fully Paid     52.161100\n",
       "       Charged Off    47.838900\n",
       "Name: proportion, dtype: float64"
      ]
     },
     "execution_count": 28,
     "metadata": {},
     "output_type": "execute_result"
    }
   ],
   "source": [
    "df.groupby('grade')['loan_status'].value_counts(normalize=True)*100"
   ]
  },
  {
   "cell_type": "markdown",
   "id": "f42bed68",
   "metadata": {},
   "source": [
    "- Almost 94% of the grade A loans are fully paid making it the best performing grade followed by B, C, D, E, F & G."
   ]
  },
  {
   "cell_type": "code",
   "execution_count": 29,
   "id": "8c77c43e",
   "metadata": {},
   "outputs": [
    {
     "data": {
      "image/png": "[encoded data removed]",
      "text/plain": [
       "<Figure size 1152x576 with 1 Axes>"
      ]
     },
     "metadata": {
      "needs_background": "light"
     },
     "output_type": "display_data"
    }
   ],
   "source": [
    "plt.figure(figsize=(16,8))\n",
    "ax=sns.countplot(x=df['purpose'],hue=df['loan_status'])\n",
    "ax.set_xticklabels(ax.get_xticklabels(), rotation=45, horizontalalignment='right')\n",
    "\n",
    "plt.show()"
   ]
  },
  {
   "cell_type": "code",
   "execution_count": 30,
   "id": "18dfbd95",
   "metadata": {},
   "outputs": [
    {
     "data": {
      "image/png": "[encoded data removed]",
      "text/plain": [
       "<Figure size 1152x576 with 1 Axes>"
      ]
     },
     "metadata": {
      "needs_background": "light"
     },
     "output_type": "display_data"
    }
   ],
   "source": [
    "plt.figure(figsize=(16,8))\n",
    "ax=sns.countplot(x=df['emp_length'],hue=df['loan_status'])\n",
    "ax.set_xticklabels(ax.get_xticklabels(), rotation=45, horizontalalignment='right')\n",
    "\n",
    "plt.show()"
   ]
  },
  {
   "cell_type": "code",
   "execution_count": 31,
   "id": "c8c31ea8",
   "metadata": {},
   "outputs": [
    {
     "data": {
      "image/png": "[encoded data removed]",
      "text/plain": [
       "<Figure size 1152x576 with 1 Axes>"
      ]
     },
     "metadata": {
      "needs_background": "light"
     },
     "output_type": "display_data"
    }
   ],
   "source": [
    "plt.figure(figsize=(16,8))\n",
    "top_20_titles = df['emp_title'].value_counts().head(20)\n",
    "sns.barplot(x=top_20_titles,y=top_20_titles.index)\n",
    "\n",
    "plt.show()"
   ]
  },
  {
   "cell_type": "markdown",
   "id": "b6df63b7",
   "metadata": {},
   "source": [
    "Among all the professions teacher and manager seems to be opting more for loans."
   ]
  },
  {
   "cell_type": "markdown",
   "id": "7eff4f9b",
   "metadata": {},
   "source": [
    "### Feature Engineering and Data Pre-processing"
   ]
  },
  {
   "cell_type": "code",
   "execution_count": 32,
   "id": "e395c691",
   "metadata": {},
   "outputs": [
    {
     "data": {
      "text/plain": [
       "0"
      ]
     },
     "execution_count": 32,
     "metadata": {},
     "output_type": "execute_result"
    }
   ],
   "source": [
    "df.duplicated().sum()"
   ]
  },
  {
   "cell_type": "markdown",
   "id": "70d37058",
   "metadata": {},
   "source": [
    "- There are no duplicate rows in the dataset."
   ]
  },
  {
   "cell_type": "code",
   "execution_count": 33,
   "id": "73cd8437",
   "metadata": {},
   "outputs": [],
   "source": [
    "# Encoding the loan_status column\n",
    "\n",
    "df['loan_status'] = df.loan_status.map({'Fully Paid':0, 'Charged Off':1})"
   ]
  },
  {
   "cell_type": "code",
   "execution_count": 34,
   "id": "171616e5",
   "metadata": {},
   "outputs": [
    {
     "data": {
      "image/png": "[encoded data removed]",
      "text/plain": [
       "<Figure size 1008x720 with 2 Axes>"
      ]
     },
     "metadata": {
      "needs_background": "light"
     },
     "output_type": "display_data"
    }
   ],
   "source": [
    "# Let's check the correlation between various numerical columns.\n",
    "\n",
    "plt.figure(figsize=(14,10))\n",
    "numeric_columns = df.select_dtypes(include='number')\n",
    "correlation_matrix = numeric_columns.corr(method='spearman')\n",
    "sns.heatmap(correlation_matrix, annot=True, cmap='viridis', fmt=\".2f\", linewidths=.5)\n",
    "\n",
    "plt.show()"
   ]
  },
  {
   "cell_type": "markdown",
   "id": "2d53503e",
   "metadata": {},
   "source": [
    "- From the above heatmap we can see a high correlation between loan_amount and installment columns. So we can drop one of the columns."
   ]
  },
  {
   "cell_type": "code",
   "execution_count": 35,
   "id": "dcab2841",
   "metadata": {},
   "outputs": [],
   "source": [
    "df.drop(columns=['installment'],axis=1,inplace=True)"
   ]
  },
  {
   "cell_type": "code",
   "execution_count": 36,
   "id": "d24a89b1",
   "metadata": {},
   "outputs": [
    {
     "data": {
      "image/png": "[encoded data removed]",
      "text/plain": [
       "<Figure size 1008x720 with 2 Axes>"
      ]
     },
     "metadata": {
      "needs_background": "light"
     },
     "output_type": "display_data"
    }
   ],
   "source": [
    "# Checking the correlation between various numerical columns after dropping the installments column.\n",
    "\n",
    "plt.figure(figsize=(14,10))\n",
    "numeric_columns = df.select_dtypes(include='number')\n",
    "correlation_matrix = numeric_columns.corr(method='spearman')\n",
    "sns.heatmap(correlation_matrix, annot=True, cmap='viridis', fmt=\".2f\", linewidths=.5)\n",
    "\n",
    "plt.show()"
   ]
  },
  {
   "cell_type": "code",
   "execution_count": 37,
   "id": "a33425e3",
   "metadata": {},
   "outputs": [
    {
     "data": {
      "text/plain": [
       "pub_rec\n",
       "0.0     338272\n",
       "1.0      49739\n",
       "2.0       5476\n",
       "3.0       1521\n",
       "4.0        527\n",
       "5.0        237\n",
       "6.0        122\n",
       "7.0         56\n",
       "8.0         34\n",
       "9.0         12\n",
       "10.0        11\n",
       "11.0         8\n",
       "13.0         4\n",
       "12.0         4\n",
       "19.0         2\n",
       "40.0         1\n",
       "17.0         1\n",
       "86.0         1\n",
       "24.0         1\n",
       "15.0         1\n",
       "Name: count, dtype: int64"
      ]
     },
     "execution_count": 37,
     "metadata": {},
     "output_type": "execute_result"
    }
   ],
   "source": [
    "df['pub_rec'].value_counts()"
   ]
  },
  {
   "cell_type": "code",
   "execution_count": 38,
   "id": "bb716e23",
   "metadata": {},
   "outputs": [
    {
     "data": {
      "text/plain": [
       "mort_acc\n",
       "0.0     139777\n",
       "1.0      60416\n",
       "2.0      49948\n",
       "3.0      38049\n",
       "4.0      27887\n",
       "5.0      18194\n",
       "6.0      11069\n",
       "7.0       6052\n",
       "8.0       3121\n",
       "9.0       1656\n",
       "10.0       865\n",
       "11.0       479\n",
       "12.0       264\n",
       "13.0       146\n",
       "14.0       107\n",
       "15.0        61\n",
       "16.0        37\n",
       "17.0        22\n",
       "18.0        18\n",
       "19.0        15\n",
       "20.0        13\n",
       "24.0        10\n",
       "22.0         7\n",
       "21.0         4\n",
       "25.0         4\n",
       "27.0         3\n",
       "32.0         2\n",
       "31.0         2\n",
       "23.0         2\n",
       "26.0         2\n",
       "28.0         1\n",
       "30.0         1\n",
       "34.0         1\n",
       "Name: count, dtype: int64"
      ]
     },
     "execution_count": 38,
     "metadata": {},
     "output_type": "execute_result"
    }
   ],
   "source": [
    "df['mort_acc'].value_counts()"
   ]
  },
  {
   "cell_type": "code",
   "execution_count": 39,
   "id": "fae4af42",
   "metadata": {},
   "outputs": [
    {
     "data": {
      "text/plain": [
       "pub_rec_bankruptcies\n",
       "0.0    350380\n",
       "1.0     42790\n",
       "2.0      1847\n",
       "3.0       351\n",
       "4.0        82\n",
       "5.0        32\n",
       "6.0         7\n",
       "7.0         4\n",
       "8.0         2\n",
       "Name: count, dtype: int64"
      ]
     },
     "execution_count": 39,
     "metadata": {},
     "output_type": "execute_result"
    }
   ],
   "source": [
    "df['pub_rec_bankruptcies'].value_counts()"
   ]
  },
  {
   "cell_type": "code",
   "execution_count": 40,
   "id": "725f4040",
   "metadata": {},
   "outputs": [],
   "source": [
    "def pub_rec(x):\n",
    "    if x==0.0:\n",
    "        return 0\n",
    "    else:\n",
    "        return 1"
   ]
  },
  {
   "cell_type": "code",
   "execution_count": 41,
   "id": "be0997ff",
   "metadata": {},
   "outputs": [],
   "source": [
    "def mort_acc(x):\n",
    "    if x==0.0:\n",
    "        return 0\n",
    "    elif x>=1.0:\n",
    "        return 1\n",
    "    else:\n",
    "        return x"
   ]
  },
  {
   "cell_type": "code",
   "execution_count": 42,
   "id": "19a89d6f",
   "metadata": {},
   "outputs": [],
   "source": [
    "def pub_rec_bankruptcies(x):\n",
    "    if x==0.0:\n",
    "        return 0\n",
    "    elif x>=1.0:\n",
    "        return 1\n",
    "    else:\n",
    "        return x"
   ]
  },
  {
   "cell_type": "code",
   "execution_count": 43,
   "id": "cf2dc859",
   "metadata": {},
   "outputs": [],
   "source": [
    "df['pub_rec'] = df['pub_rec'].apply(pub_rec)\n",
    "df['mort_acc'] = df['mort_acc'].apply(mort_acc)\n",
    "df['pub_rec_bankruptcies'] = df['pub_rec_bankruptcies'].apply(pub_rec_bankruptcies)"
   ]
  },
  {
   "cell_type": "code",
   "execution_count": 44,
   "id": "635af52f",
   "metadata": {},
   "outputs": [
    {
     "data": {
      "image/png": "[encoded data removed]",
      "text/plain": [
       "<Figure size 1296x864 with 4 Axes>"
      ]
     },
     "metadata": {
      "needs_background": "light"
     },
     "output_type": "display_data"
    }
   ],
   "source": [
    "plt.figure(figsize=(18,12))\n",
    "plt.subplot(2,2,1)\n",
    "sns.countplot(x='pub_rec',data=df,hue='loan_status')\n",
    "\n",
    "plt.subplot(2,2,2)\n",
    "sns.countplot(x='mort_acc',data=df,hue='loan_status')\n",
    "\n",
    "plt.subplot(2,2,3)\n",
    "sns.countplot(x='pub_rec_bankruptcies',data=df,hue='loan_status')\n",
    "\n",
    "plt.subplot(2,2,4)\n",
    "sns.countplot(x='initial_list_status',data=df,hue='loan_status')\n",
    "\n",
    "plt.tight_layout()\n",
    "plt.show()"
   ]
  },
  {
   "cell_type": "code",
   "execution_count": 45,
   "id": "f9bc7aab",
   "metadata": {},
   "outputs": [
    {
     "data": {
      "text/plain": [
       "loan_amnt                   0\n",
       "term                        0\n",
       "int_rate                    0\n",
       "grade                       0\n",
       "sub_grade                   0\n",
       "emp_title               22927\n",
       "emp_length              18301\n",
       "home_ownership              0\n",
       "annual_inc                  0\n",
       "verification_status         0\n",
       "issue_d                     0\n",
       "loan_status                 0\n",
       "purpose                     0\n",
       "title                    1756\n",
       "dti                         0\n",
       "earliest_cr_line            0\n",
       "open_acc                    0\n",
       "pub_rec                     0\n",
       "revol_bal                   0\n",
       "revol_util                276\n",
       "total_acc                   0\n",
       "initial_list_status         0\n",
       "application_type            0\n",
       "mort_acc                37795\n",
       "pub_rec_bankruptcies      535\n",
       "address                     0\n",
       "dtype: int64"
      ]
     },
     "execution_count": 45,
     "metadata": {},
     "output_type": "execute_result"
    }
   ],
   "source": [
    "df.isnull().sum()"
   ]
  },
  {
   "cell_type": "markdown",
   "id": "16e1706a",
   "metadata": {},
   "source": [
    "### Missing data imputation"
   ]
  },
  {
   "cell_type": "markdown",
   "id": "d99d6a75",
   "metadata": {},
   "source": [
    "Inorder to fill the mort_acc missing values, no of total_acc's can be taken as reference."
   ]
  },
  {
   "cell_type": "code",
   "execution_count": 46,
   "id": "4aab41fc",
   "metadata": {
    "scrolled": false
   },
   "outputs": [],
   "source": [
    "# As all the mort_acc values are integers, its best to take medians of the sub-groups instead of imputing the means.\n",
    "\n",
    "mort_acc_medians =df.groupby('total_acc')['mort_acc'].median()"
   ]
  },
  {
   "cell_type": "code",
   "execution_count": 47,
   "id": "8c9e7496",
   "metadata": {},
   "outputs": [],
   "source": [
    "def fill_mort_acc(total_acc, mort_acc):\n",
    "    if np.isnan(mort_acc):\n",
    "        return mort_acc_medians[total_acc].round()\n",
    "    else:\n",
    "        return mort_acc"
   ]
  },
  {
   "cell_type": "code",
   "execution_count": 48,
   "id": "ff2b0700",
   "metadata": {},
   "outputs": [],
   "source": [
    "# Imputing mort_acc values by referencing total_acc medians\n",
    "\n",
    "df['mort_acc'] = df.apply(lambda x: fill_mort_acc(x['total_acc'], x['mort_acc']),axis=1)   "
   ]
  },
  {
   "cell_type": "markdown",
   "id": "bc1a422e",
   "metadata": {},
   "source": [
    "Inorder to fill the pub_rec_bankruptcies missing values, no of pub_rec's can be taken as reference."
   ]
  },
  {
   "cell_type": "code",
   "execution_count": 49,
   "id": "370efedb",
   "metadata": {},
   "outputs": [],
   "source": [
    "pub_rec_medians =df.groupby('pub_rec')['pub_rec_bankruptcies'].median()"
   ]
  },
  {
   "cell_type": "code",
   "execution_count": 50,
   "id": "6f574961",
   "metadata": {},
   "outputs": [],
   "source": [
    "def fill_pub_rec_bankruptcies(pub_rec, pub_rec_bankruptcies):\n",
    "    if np.isnan(pub_rec_bankruptcies):\n",
    "        return pub_rec_medians[pub_rec].round()\n",
    "    else:\n",
    "        return pub_rec_bankruptcies"
   ]
  },
  {
   "cell_type": "code",
   "execution_count": 51,
   "id": "a7014285",
   "metadata": {},
   "outputs": [],
   "source": [
    "# Imputing pub_rec_bankruptcies values by referencing pub_rec medians\n",
    "\n",
    "df['pub_rec_bankruptcies'] = df.apply(lambda x: fill_pub_rec_bankruptcies(x['pub_rec'], x['pub_rec_bankruptcies']),axis=1)   "
   ]
  },
  {
   "cell_type": "markdown",
   "id": "fab79b0e",
   "metadata": {},
   "source": [
    "- From the dataframe we can observe that the columns 'purpose' and 'title' are very similar with some special characters in between.\n",
    "- To fill the missing values in 'title' column, 'purpose' can be taken as reference."
   ]
  },
  {
   "cell_type": "code",
   "execution_count": 52,
   "id": "c47e8496",
   "metadata": {},
   "outputs": [],
   "source": [
    "title_mode = df.groupby('purpose')['title'].agg(lambda x: x.value_counts().idxmax()).to_dict()"
   ]
  },
  {
   "cell_type": "code",
   "execution_count": 53,
   "id": "40f2a548",
   "metadata": {},
   "outputs": [],
   "source": [
    "def fill_title(purpose, title):\n",
    "    if pd.isnull(title):\n",
    "        return title_mode[purpose]\n",
    "    else:\n",
    "        return title"
   ]
  },
  {
   "cell_type": "code",
   "execution_count": 54,
   "id": "02ea2b82",
   "metadata": {},
   "outputs": [],
   "source": [
    "df['title'] = df.apply(lambda x: fill_title(x['purpose'], x['title']),axis=1) "
   ]
  },
  {
   "cell_type": "code",
   "execution_count": 55,
   "id": "f51bd6bb",
   "metadata": {},
   "outputs": [],
   "source": [
    "df['title'] = df['title'].str.replace('_',\" \")"
   ]
  },
  {
   "cell_type": "markdown",
   "id": "da767abc",
   "metadata": {},
   "source": [
    "- Now, let's impute missing values in 'emp_length' by referring the corresponding values in 'emp_title' column."
   ]
  },
  {
   "cell_type": "code",
   "execution_count": 56,
   "id": "f92f8401",
   "metadata": {},
   "outputs": [
    {
     "data": {
      "text/plain": [
       "array([nan, 'Retoucher', 'STORMONT VAIL HEALTHCARE', 'Mortgage Processor',\n",
       "       'Wells Fargo', 'carquest', 'Caregiver', 'oparation manager',\n",
       "       'One Source Tool, Inc', 'Financial Sources',\n",
       "       'freelance home nursing', 'President', 'Long Agency Inc.',\n",
       "       'Binghamton University ', 'State Of California', 'Retired',\n",
       "       'TD Bank', 'State of Illinois', 'Everlighting, Inc.',\n",
       "       'Tax Professional', 'Superb Farms', 'Liberty Tax Service',\n",
       "       'Licensed ', 'penny marketing', ' driver', 'Ordway Drug Store',\n",
       "       'Attorney-at-Law', 'Belk', 'courstey cler', 'Wirebond', 'Auditor',\n",
       "       'Receptionist ', 'Research Analyst', 'TOP COORDINATOR',\n",
       "       'security officer', 'Lead Front Desk Clerk', 'Tong Parks',\n",
       "       'MILGARD', 'CAL FIRE', 'RIVER SPIRIT CASINO', 'supervisor',\n",
       "       'LegacyTexas Bank', 'American Fire Equipment', 'Security Officer',\n",
       "       'Instructor', 'owner', 'Transportation Coordinator', 'Owner',\n",
       "       'teacher', 'US Government ', 'Home health aid',\n",
       "       'The Rockefeller University', 'KPFF', 'Sgt security',\n",
       "       'shipping &receiving', 'warehouse ', 'Consultant',\n",
       "       'Police Officer', 'DIVISION MANAGER', 'Sales Associate',\n",
       "       'Tour Guide', 'Electrician', 'Tucker Rocky Distribution',\n",
       "       'Coordinator', 'Foster Grandparent', 'Part-time employee',\n",
       "       'freelance proofreader', 'EFCO', 'AEM Corporation', 'ft lewis',\n",
       "       'Sales', 'consultant', 'Business Manager', 'Limited Nail Salon ',\n",
       "       'Mosaic Solutions', 'Adjunct ', 'Security', 'doctor assistant',\n",
       "       'GARLOCK RUBBER TECHNOLOGIES', 'FLOYD ', 'Supervisor',\n",
       "       'Talbot County Department of Corrections', 'ISS Coordinator',\n",
       "       'Cornell University', 'United ', 'Ryla Teleservices', 'writer',\n",
       "       'TIRO ELECTRIC', 'Supervisor ', 'US Army National Guard',\n",
       "       'caregiver', 'Disabled', 'E-5', 'Manager', 'Chrysler Group, LLC',\n",
       "       'North American Industrial Services Inc.', 'Freelance', 'Designer',\n",
       "       'Dishwasher', 'PSO', 'DuMolin Community Living', 'UCSF',\n",
       "       'Administrative Assistant',\n",
       "       'California State University, Fullerton', 'Server ',\n",
       "       'Haas School of Business', 'Vista Verde Middle School', 'Walmart',\n",
       "       'Teaching Assistant', 'Cast and Crew ', 'Arff', 'CERTIFIED MARINE',\n",
       "       'Sauder Woodworking', 'Teacher', 'Logistics', 'Produce clerk',\n",
       "       'Security Guard', 'Utilities Inspector', 'Chiropractor - owner',\n",
       "       'Police officer', 'Graduate Assistant',\n",
       "       'Division Child Support Enforcement', 'shelly bmw',\n",
       "       'Sahuarita Town Councilman', 'Childrens Hospital Los Angeles',\n",
       "       'Dr', 'MANAGER', 'Pilot', 'cart rep', 'Storeroom Supervisor ',\n",
       "       'Feldhaus and Peace', 'Inventory Counter', 'Detailer',\n",
       "       'JP Morgan Chase', 'Yale Long Insurance', 'teacher helper',\n",
       "       'Care Giver', \"Arizona's Best Choice Pest \",\n",
       "       'summit medical center', 'STEMPER WIBELHOUSE', 'sales',\n",
       "       'Pearce windows and doors', 'T Marzetti',\n",
       "       'food service supervisor ', 'Outbound Manager', 'Pipe fitter ',\n",
       "       'Student Audio Engineer', 'Aegis Communications Group', 'Porter',\n",
       "       'Astro-tec Manufacturing Inc', 'HR Coordinator',\n",
       "       'AL Medicaid Agency', 'Genzyme Genetics', 'welder', 'Return Agent',\n",
       "       'us army national guard', 'Vanilla Urban Threads',\n",
       "       'Columbia University', 'Albany Door Systems',\n",
       "       'first student management', 'Emergency Medical Technician',\n",
       "       'Corporate Care', 'Driver', 'United States Postal Clerk',\n",
       "       'Dispatcher', 'Asso. Illinois Middle Schools ', 'DSP', 'USAF',\n",
       "       'Senior Risk Analyst', 'captain'], dtype=object)"
      ]
     },
     "execution_count": 56,
     "metadata": {},
     "output_type": "execute_result"
    }
   ],
   "source": [
    "# List of all the emp_titles where emp_length value is misssing.\n",
    "\n",
    "df[df['emp_length'].isnull()]['emp_title'].unique()"
   ]
  },
  {
   "cell_type": "code",
   "execution_count": 57,
   "id": "1f7319e2",
   "metadata": {},
   "outputs": [
    {
     "data": {
      "text/plain": [
       "array([nan, '4 years', '7 years', '10+ years', '6 years', '2 years',\n",
       "       '8 years', '< 1 year', '5 years', '3 years', '9 years', '1 year'],\n",
       "      dtype=object)"
      ]
     },
     "execution_count": 57,
     "metadata": {},
     "output_type": "execute_result"
    }
   ],
   "source": [
    "# List of all the emp_lengths where emp_titles are missing. \n",
    "\n",
    "df[df['emp_title'].isnull()]['emp_length'].unique()"
   ]
  },
  {
   "cell_type": "code",
   "execution_count": 58,
   "id": "8ab42e61",
   "metadata": {},
   "outputs": [
    {
     "data": {
      "text/plain": [
       "18123"
      ]
     },
     "execution_count": 58,
     "metadata": {},
     "output_type": "execute_result"
    }
   ],
   "source": [
    "# Total no.of rows where both emp_title and emp_length are missing.\n",
    "\n",
    "len(df[df['emp_title'].isnull() & df['emp_length'].isnull()])"
   ]
  },
  {
   "cell_type": "code",
   "execution_count": 59,
   "id": "b43f82ed",
   "metadata": {},
   "outputs": [],
   "source": [
    "# Function to calculate mode\n",
    "def calculate_mode(x):\n",
    "    if x.isnull().all():\n",
    "        return np.nan\n",
    "    else:\n",
    "        return x.mode().iloc[0] if not x.mode().empty else np.nan\n",
    "\n",
    "# Calculate the mode of 'emp_length' for each 'emp_title' group\n",
    "emp_len_mode = df.groupby('emp_title')['emp_length'].agg(calculate_mode).to_dict()\n",
    "\n",
    "# Impute missing values in 'emp_length' based on the mode\n",
    "df['emp_length'] = df.apply(lambda row: emp_len_mode.get(row['emp_title'], None) if pd.isnull(row['emp_length']) else row['emp_length'], axis=1)"
   ]
  },
  {
   "cell_type": "code",
   "execution_count": 60,
   "id": "543b5328",
   "metadata": {},
   "outputs": [
    {
     "data": {
      "text/plain": [
       "loan_amnt                   0\n",
       "term                        0\n",
       "int_rate                    0\n",
       "grade                       0\n",
       "sub_grade                   0\n",
       "emp_title               22927\n",
       "emp_length              18208\n",
       "home_ownership              0\n",
       "annual_inc                  0\n",
       "verification_status         0\n",
       "issue_d                     0\n",
       "loan_status                 0\n",
       "purpose                     0\n",
       "title                       0\n",
       "dti                         0\n",
       "earliest_cr_line            0\n",
       "open_acc                    0\n",
       "pub_rec                     0\n",
       "revol_bal                   0\n",
       "revol_util                276\n",
       "total_acc                   0\n",
       "initial_list_status         0\n",
       "application_type            0\n",
       "mort_acc                    0\n",
       "pub_rec_bankruptcies        0\n",
       "address                     0\n",
       "dtype: int64"
      ]
     },
     "execution_count": 60,
     "metadata": {},
     "output_type": "execute_result"
    }
   ],
   "source": [
    "df.isnull().sum()"
   ]
  },
  {
   "cell_type": "markdown",
   "id": "baa0b319",
   "metadata": {},
   "source": [
    "- Even after imputing, there are still many missing values in emp_length and emp_title columns. There is no such column to refer for imputing the missing values in emp_title and emp_length columns.\n",
    "- So, let's remove the rows with missing fields."
   ]
  },
  {
   "cell_type": "code",
   "execution_count": 61,
   "id": "bd3dc521",
   "metadata": {},
   "outputs": [],
   "source": [
    "df.dropna(inplace=True)"
   ]
  },
  {
   "cell_type": "code",
   "execution_count": 62,
   "id": "7339b7fc",
   "metadata": {},
   "outputs": [
    {
     "data": {
      "text/plain": [
       "(372758, 26)"
      ]
     },
     "execution_count": 62,
     "metadata": {},
     "output_type": "execute_result"
    }
   ],
   "source": [
    "df.shape"
   ]
  },
  {
   "cell_type": "markdown",
   "id": "0558ba03",
   "metadata": {},
   "source": [
    "### Outlier Treatment"
   ]
  },
  {
   "cell_type": "code",
   "execution_count": 63,
   "id": "5f676075",
   "metadata": {},
   "outputs": [
    {
     "data": {
      "text/plain": [
       "Index(['loan_amnt', 'int_rate', 'annual_inc', 'loan_status', 'dti', 'open_acc',\n",
       "       'pub_rec', 'revol_bal', 'revol_util', 'total_acc', 'mort_acc',\n",
       "       'pub_rec_bankruptcies'],\n",
       "      dtype='object')"
      ]
     },
     "execution_count": 63,
     "metadata": {},
     "output_type": "execute_result"
    }
   ],
   "source": [
    "# Let's create a list of all the column names with numerical data.\n",
    "\n",
    "numerical_col=df.select_dtypes(include='number').columns\n",
    "numerical_col"
   ]
  },
  {
   "cell_type": "code",
   "execution_count": 64,
   "id": "e0fa13fe",
   "metadata": {},
   "outputs": [
    {
     "data": {
      "image/png": "[encoded data removed]",
      "text/plain": [
       "<Figure size 1296x864 with 12 Axes>"
      ]
     },
     "metadata": {
      "needs_background": "light"
     },
     "output_type": "display_data"
    }
   ],
   "source": [
    "plt.figure(figsize=(18, 12))\n",
    "for i in range(len(numerical_col)):\n",
    "    plt.subplot(4,3,i+1)\n",
    "    sns.boxplot(df[numerical_col[i]],orient='h')\n",
    "    plt.title(f\"{numerical_col[i]}\")\n",
    "plt.tight_layout()"
   ]
  },
  {
   "cell_type": "markdown",
   "id": "dccdd83d",
   "metadata": {},
   "source": [
    "- There are outliers in most of the numerical columns. So lets remove them."
   ]
  },
  {
   "cell_type": "code",
   "execution_count": 65,
   "id": "aaf4d9bc",
   "metadata": {},
   "outputs": [],
   "source": [
    "# Removing the outliers using 3-standard deviation rule.\n",
    "\n",
    "for columns in numerical_col:\n",
    "    lower_limit = df[columns].mean() - 3*df[columns].std()\n",
    "    upper_limit = df[columns].mean() + 3*df[columns].std()\n",
    "    \n",
    "    df= df[(df[columns]<upper_limit) & (df[columns]>lower_limit)]"
   ]
  },
  {
   "cell_type": "code",
   "execution_count": 66,
   "id": "fdd25ded",
   "metadata": {},
   "outputs": [
    {
     "data": {
      "text/plain": [
       "(356518, 26)"
      ]
     },
     "execution_count": 66,
     "metadata": {},
     "output_type": "execute_result"
    }
   ],
   "source": [
    "df.shape"
   ]
  },
  {
   "cell_type": "code",
   "execution_count": 67,
   "id": "b1928734",
   "metadata": {},
   "outputs": [
    {
     "data": {
      "text/plain": [
       "array(['w', 'f'], dtype=object)"
      ]
     },
     "execution_count": 67,
     "metadata": {},
     "output_type": "execute_result"
    }
   ],
   "source": [
    "df['initial_list_status'].unique()"
   ]
  },
  {
   "cell_type": "code",
   "execution_count": 68,
   "id": "f07b2fa2",
   "metadata": {},
   "outputs": [],
   "source": [
    "# Converting categorical data in initial_list_status to numerical.\n",
    "\n",
    "df['initial_list_status'] = df['initial_list_status'].map({'w':0 , 'f': 1})"
   ]
  },
  {
   "cell_type": "code",
   "execution_count": 69,
   "id": "675bb77a",
   "metadata": {},
   "outputs": [
    {
     "data": {
      "text/plain": [
       "array([' 36 months', ' 60 months'], dtype=object)"
      ]
     },
     "execution_count": 69,
     "metadata": {},
     "output_type": "execute_result"
    }
   ],
   "source": [
    "df['term'].unique()"
   ]
  },
  {
   "cell_type": "code",
   "execution_count": 70,
   "id": "2dc98b3a",
   "metadata": {},
   "outputs": [],
   "source": [
    "term_values = {' 36 months': 36, ' 60 months': 60}\n",
    "df['term'] = df.term.map(term_values)"
   ]
  },
  {
   "cell_type": "code",
   "execution_count": 71,
   "id": "c37b961b",
   "metadata": {},
   "outputs": [],
   "source": [
    "# Extracting zipcode from the address column\n",
    "\n",
    "df['zipcode']=df.address.apply(lambda x: x[-5:])"
   ]
  },
  {
   "cell_type": "code",
   "execution_count": 72,
   "id": "646e118f",
   "metadata": {},
   "outputs": [
    {
     "data": {
      "text/plain": [
       "zipcode\n",
       "70466    14.376553\n",
       "30723    14.287077\n",
       "22690    14.268845\n",
       "48052    14.130282\n",
       "00813    11.614561\n",
       "29597    11.534901\n",
       "05113    11.512182\n",
       "11650     2.772090\n",
       "93700     2.772090\n",
       "86630     2.731419\n",
       "Name: proportion, dtype: float64"
      ]
     },
     "execution_count": 72,
     "metadata": {},
     "output_type": "execute_result"
    }
   ],
   "source": [
    "df['zipcode'].value_counts(normalize = True)*100"
   ]
  },
  {
   "cell_type": "code",
   "execution_count": 73,
   "id": "7ed000d1",
   "metadata": {},
   "outputs": [
    {
     "name": "stdout",
     "output_type": "stream",
     "text": [
      "<class 'pandas.core.frame.DataFrame'>\n",
      "Index: 356518 entries, 0 to 396029\n",
      "Data columns (total 27 columns):\n",
      " #   Column                Non-Null Count   Dtype         \n",
      "---  ------                --------------   -----         \n",
      " 0   loan_amnt             356518 non-null  float64       \n",
      " 1   term                  356518 non-null  int64         \n",
      " 2   int_rate              356518 non-null  float64       \n",
      " 3   grade                 356518 non-null  object        \n",
      " 4   sub_grade             356518 non-null  object        \n",
      " 5   emp_title             356518 non-null  object        \n",
      " 6   emp_length            356518 non-null  object        \n",
      " 7   home_ownership        356518 non-null  object        \n",
      " 8   annual_inc            356518 non-null  float64       \n",
      " 9   verification_status   356518 non-null  object        \n",
      " 10  issue_d               356518 non-null  datetime64[ns]\n",
      " 11  loan_status           356518 non-null  int64         \n",
      " 12  purpose               356518 non-null  object        \n",
      " 13  title                 356518 non-null  object        \n",
      " 14  dti                   356518 non-null  float64       \n",
      " 15  earliest_cr_line      356518 non-null  datetime64[ns]\n",
      " 16  open_acc              356518 non-null  float64       \n",
      " 17  pub_rec               356518 non-null  int64         \n",
      " 18  revol_bal             356518 non-null  float64       \n",
      " 19  revol_util            356518 non-null  float64       \n",
      " 20  total_acc             356518 non-null  float64       \n",
      " 21  initial_list_status   356518 non-null  int64         \n",
      " 22  application_type      356518 non-null  object        \n",
      " 23  mort_acc              356518 non-null  float64       \n",
      " 24  pub_rec_bankruptcies  356518 non-null  float64       \n",
      " 25  address               356518 non-null  object        \n",
      " 26  zipcode               356518 non-null  object        \n",
      "dtypes: datetime64[ns](2), float64(10), int64(4), object(11)\n",
      "memory usage: 76.2+ MB\n"
     ]
    }
   ],
   "source": [
    "df.info()"
   ]
  },
  {
   "cell_type": "code",
   "execution_count": 74,
   "id": "bd4f20d4",
   "metadata": {},
   "outputs": [],
   "source": [
    "df['issue_year'] = df['issue_d'].dt.year\n",
    "df['earliest_cr_line_year'] = df['earliest_cr_line'].dt.year"
   ]
  },
  {
   "cell_type": "code",
   "execution_count": 75,
   "id": "a24b0595",
   "metadata": {},
   "outputs": [],
   "source": [
    "# Dropping the issue_d and earliest_cr_line columns as we already extracted years from them.\n",
    "\n",
    "df.drop(columns=['issue_d','earliest_cr_line'], axis = 1, inplace = True)"
   ]
  },
  {
   "cell_type": "code",
   "execution_count": 76,
   "id": "2cf417d0",
   "metadata": {},
   "outputs": [],
   "source": [
    "df.drop(columns=['address'], axis = 1, inplace = True)"
   ]
  },
  {
   "cell_type": "markdown",
   "id": "0e90018a",
   "metadata": {},
   "source": [
    "#### Frequency mapping"
   ]
  },
  {
   "cell_type": "code",
   "execution_count": 77,
   "id": "7ad3e79a",
   "metadata": {},
   "outputs": [],
   "source": [
    "# Frequency mapping the emp_title column.\n",
    "\n",
    "emp_title_frequency_map = df['emp_title'].value_counts().to_dict()\n",
    "df['emp_title'] = df['emp_title'].map(emp_title_frequency_map)"
   ]
  },
  {
   "cell_type": "code",
   "execution_count": 78,
   "id": "baad23ca",
   "metadata": {},
   "outputs": [],
   "source": [
    "# Frequency mapping the title column.\n",
    "\n",
    "title_frequency_map = df['title'].value_counts().to_dict()\n",
    "df['title'] = df['title'].map(title_frequency_map)"
   ]
  },
  {
   "cell_type": "code",
   "execution_count": 79,
   "id": "307c6b06",
   "metadata": {},
   "outputs": [],
   "source": [
    "# Frequency mapping the emp_length column.\n",
    "\n",
    "emp_length_frequency_map = df['emp_length'].value_counts().to_dict()\n",
    "df['emp_length'] = df['emp_length'].map(emp_length_frequency_map)"
   ]
  },
  {
   "cell_type": "code",
   "execution_count": 80,
   "id": "01b29c9a",
   "metadata": {},
   "outputs": [],
   "source": [
    "# Frequency mapping the sub_grade column.\n",
    "\n",
    "sub_grade_frequency_map = df['sub_grade'].value_counts().to_dict()\n",
    "df['sub_grade'] = df['sub_grade'].map(sub_grade_frequency_map)"
   ]
  },
  {
   "cell_type": "markdown",
   "id": "4fe7de3f",
   "metadata": {},
   "source": [
    "#### One-hot encoding"
   ]
  },
  {
   "cell_type": "code",
   "execution_count": 81,
   "id": "26b472ec",
   "metadata": {},
   "outputs": [],
   "source": [
    "columns_to_encode = ['purpose', 'zipcode', 'grade', 'verification_status', 'application_type', 'home_ownership']\n",
    "df= pd.get_dummies(df,columns = columns_to_encode, drop_first = True)"
   ]
  },
  {
   "cell_type": "code",
   "execution_count": 82,
   "id": "c2e60adc",
   "metadata": {},
   "outputs": [
    {
     "data": {
      "text/plain": [
       "(356518, 55)"
      ]
     },
     "execution_count": 82,
     "metadata": {},
     "output_type": "execute_result"
    }
   ],
   "source": [
    "df.shape"
   ]
  },
  {
   "cell_type": "code",
   "execution_count": 83,
   "id": "d226cad9",
   "metadata": {},
   "outputs": [
    {
     "data": {
      "text/html": [
       "<div>\n",
       "<style scoped>\n",
       "    .dataframe tbody tr th:only-of-type {\n",
       "        vertical-align: middle;\n",
       "    }\n",
       "\n",
       "    .dataframe tbody tr th {\n",
       "        vertical-align: top;\n",
       "    }\n",
       "\n",
       "    .dataframe thead th {\n",
       "        text-align: right;\n",
       "    }\n",
       "</style>\n",
       "<table border=\"1\" class=\"dataframe\">\n",
       "  <thead>\n",
       "    <tr style=\"text-align: right;\">\n",
       "      <th></th>\n",
       "      <th>loan_amnt</th>\n",
       "      <th>term</th>\n",
       "      <th>int_rate</th>\n",
       "      <th>sub_grade</th>\n",
       "      <th>emp_title</th>\n",
       "      <th>emp_length</th>\n",
       "      <th>annual_inc</th>\n",
       "      <th>loan_status</th>\n",
       "      <th>title</th>\n",
       "      <th>dti</th>\n",
       "      <th>open_acc</th>\n",
       "      <th>pub_rec</th>\n",
       "      <th>revol_bal</th>\n",
       "      <th>revol_util</th>\n",
       "      <th>total_acc</th>\n",
       "      <th>initial_list_status</th>\n",
       "      <th>mort_acc</th>\n",
       "      <th>pub_rec_bankruptcies</th>\n",
       "      <th>issue_year</th>\n",
       "      <th>earliest_cr_line_year</th>\n",
       "      <th>purpose_credit_card</th>\n",
       "      <th>purpose_debt_consolidation</th>\n",
       "      <th>purpose_educational</th>\n",
       "      <th>purpose_home_improvement</th>\n",
       "      <th>purpose_house</th>\n",
       "      <th>purpose_major_purchase</th>\n",
       "      <th>purpose_medical</th>\n",
       "      <th>purpose_moving</th>\n",
       "      <th>purpose_other</th>\n",
       "      <th>purpose_renewable_energy</th>\n",
       "      <th>purpose_small_business</th>\n",
       "      <th>purpose_vacation</th>\n",
       "      <th>purpose_wedding</th>\n",
       "      <th>zipcode_05113</th>\n",
       "      <th>zipcode_11650</th>\n",
       "      <th>zipcode_22690</th>\n",
       "      <th>zipcode_29597</th>\n",
       "      <th>zipcode_30723</th>\n",
       "      <th>zipcode_48052</th>\n",
       "      <th>zipcode_70466</th>\n",
       "      <th>zipcode_86630</th>\n",
       "      <th>zipcode_93700</th>\n",
       "      <th>grade_B</th>\n",
       "      <th>grade_C</th>\n",
       "      <th>grade_D</th>\n",
       "      <th>grade_E</th>\n",
       "      <th>grade_F</th>\n",
       "      <th>grade_G</th>\n",
       "      <th>verification_status_Source Verified</th>\n",
       "      <th>verification_status_Verified</th>\n",
       "      <th>application_type_INDIVIDUAL</th>\n",
       "      <th>application_type_JOINT</th>\n",
       "      <th>home_ownership_OTHER</th>\n",
       "      <th>home_ownership_OWN</th>\n",
       "      <th>home_ownership_RENT</th>\n",
       "    </tr>\n",
       "  </thead>\n",
       "  <tbody>\n",
       "    <tr>\n",
       "      <th>0</th>\n",
       "      <td>10000.0</td>\n",
       "      <td>36</td>\n",
       "      <td>11.44</td>\n",
       "      <td>23316</td>\n",
       "      <td>82</td>\n",
       "      <td>117679</td>\n",
       "      <td>117000.0</td>\n",
       "      <td>0</td>\n",
       "      <td>1671</td>\n",
       "      <td>26.24</td>\n",
       "      <td>16.0</td>\n",
       "      <td>0</td>\n",
       "      <td>36369.0</td>\n",
       "      <td>41.8</td>\n",
       "      <td>25.0</td>\n",
       "      <td>0</td>\n",
       "      <td>0.0</td>\n",
       "      <td>0.0</td>\n",
       "      <td>2015</td>\n",
       "      <td>1990</td>\n",
       "      <td>False</td>\n",
       "      <td>False</td>\n",
       "      <td>False</td>\n",
       "      <td>False</td>\n",
       "      <td>False</td>\n",
       "      <td>False</td>\n",
       "      <td>False</td>\n",
       "      <td>False</td>\n",
       "      <td>False</td>\n",
       "      <td>False</td>\n",
       "      <td>False</td>\n",
       "      <td>True</td>\n",
       "      <td>False</td>\n",
       "      <td>False</td>\n",
       "      <td>False</td>\n",
       "      <td>True</td>\n",
       "      <td>False</td>\n",
       "      <td>False</td>\n",
       "      <td>False</td>\n",
       "      <td>False</td>\n",
       "      <td>False</td>\n",
       "      <td>False</td>\n",
       "      <td>True</td>\n",
       "      <td>False</td>\n",
       "      <td>False</td>\n",
       "      <td>False</td>\n",
       "      <td>False</td>\n",
       "      <td>False</td>\n",
       "      <td>False</td>\n",
       "      <td>False</td>\n",
       "      <td>True</td>\n",
       "      <td>False</td>\n",
       "      <td>False</td>\n",
       "      <td>False</td>\n",
       "      <td>True</td>\n",
       "    </tr>\n",
       "    <tr>\n",
       "      <th>1</th>\n",
       "      <td>8000.0</td>\n",
       "      <td>36</td>\n",
       "      <td>11.99</td>\n",
       "      <td>20056</td>\n",
       "      <td>3</td>\n",
       "      <td>22663</td>\n",
       "      <td>65000.0</td>\n",
       "      <td>0</td>\n",
       "      <td>156190</td>\n",
       "      <td>22.05</td>\n",
       "      <td>17.0</td>\n",
       "      <td>0</td>\n",
       "      <td>20131.0</td>\n",
       "      <td>53.3</td>\n",
       "      <td>27.0</td>\n",
       "      <td>1</td>\n",
       "      <td>1.0</td>\n",
       "      <td>0.0</td>\n",
       "      <td>2015</td>\n",
       "      <td>2004</td>\n",
       "      <td>False</td>\n",
       "      <td>True</td>\n",
       "      <td>False</td>\n",
       "      <td>False</td>\n",
       "      <td>False</td>\n",
       "      <td>False</td>\n",
       "      <td>False</td>\n",
       "      <td>False</td>\n",
       "      <td>False</td>\n",
       "      <td>False</td>\n",
       "      <td>False</td>\n",
       "      <td>False</td>\n",
       "      <td>False</td>\n",
       "      <td>True</td>\n",
       "      <td>False</td>\n",
       "      <td>False</td>\n",
       "      <td>False</td>\n",
       "      <td>False</td>\n",
       "      <td>False</td>\n",
       "      <td>False</td>\n",
       "      <td>False</td>\n",
       "      <td>False</td>\n",
       "      <td>True</td>\n",
       "      <td>False</td>\n",
       "      <td>False</td>\n",
       "      <td>False</td>\n",
       "      <td>False</td>\n",
       "      <td>False</td>\n",
       "      <td>False</td>\n",
       "      <td>False</td>\n",
       "      <td>True</td>\n",
       "      <td>False</td>\n",
       "      <td>False</td>\n",
       "      <td>False</td>\n",
       "      <td>False</td>\n",
       "    </tr>\n",
       "    <tr>\n",
       "      <th>2</th>\n",
       "      <td>15600.0</td>\n",
       "      <td>36</td>\n",
       "      <td>10.49</td>\n",
       "      <td>24160</td>\n",
       "      <td>10</td>\n",
       "      <td>30066</td>\n",
       "      <td>43057.0</td>\n",
       "      <td>0</td>\n",
       "      <td>47932</td>\n",
       "      <td>12.79</td>\n",
       "      <td>13.0</td>\n",
       "      <td>0</td>\n",
       "      <td>11987.0</td>\n",
       "      <td>92.2</td>\n",
       "      <td>26.0</td>\n",
       "      <td>1</td>\n",
       "      <td>0.0</td>\n",
       "      <td>0.0</td>\n",
       "      <td>2015</td>\n",
       "      <td>2007</td>\n",
       "      <td>True</td>\n",
       "      <td>False</td>\n",
       "      <td>False</td>\n",
       "      <td>False</td>\n",
       "      <td>False</td>\n",
       "      <td>False</td>\n",
       "      <td>False</td>\n",
       "      <td>False</td>\n",
       "      <td>False</td>\n",
       "      <td>False</td>\n",
       "      <td>False</td>\n",
       "      <td>False</td>\n",
       "      <td>False</td>\n",
       "      <td>True</td>\n",
       "      <td>False</td>\n",
       "      <td>False</td>\n",
       "      <td>False</td>\n",
       "      <td>False</td>\n",
       "      <td>False</td>\n",
       "      <td>False</td>\n",
       "      <td>False</td>\n",
       "      <td>False</td>\n",
       "      <td>True</td>\n",
       "      <td>False</td>\n",
       "      <td>False</td>\n",
       "      <td>False</td>\n",
       "      <td>False</td>\n",
       "      <td>False</td>\n",
       "      <td>True</td>\n",
       "      <td>False</td>\n",
       "      <td>True</td>\n",
       "      <td>False</td>\n",
       "      <td>False</td>\n",
       "      <td>False</td>\n",
       "      <td>True</td>\n",
       "    </tr>\n",
       "    <tr>\n",
       "      <th>3</th>\n",
       "      <td>7200.0</td>\n",
       "      <td>36</td>\n",
       "      <td>6.49</td>\n",
       "      <td>8574</td>\n",
       "      <td>1</td>\n",
       "      <td>19835</td>\n",
       "      <td>54000.0</td>\n",
       "      <td>0</td>\n",
       "      <td>47932</td>\n",
       "      <td>2.60</td>\n",
       "      <td>6.0</td>\n",
       "      <td>0</td>\n",
       "      <td>5472.0</td>\n",
       "      <td>21.5</td>\n",
       "      <td>13.0</td>\n",
       "      <td>1</td>\n",
       "      <td>0.0</td>\n",
       "      <td>0.0</td>\n",
       "      <td>2014</td>\n",
       "      <td>2006</td>\n",
       "      <td>True</td>\n",
       "      <td>False</td>\n",
       "      <td>False</td>\n",
       "      <td>False</td>\n",
       "      <td>False</td>\n",
       "      <td>False</td>\n",
       "      <td>False</td>\n",
       "      <td>False</td>\n",
       "      <td>False</td>\n",
       "      <td>False</td>\n",
       "      <td>False</td>\n",
       "      <td>False</td>\n",
       "      <td>False</td>\n",
       "      <td>False</td>\n",
       "      <td>False</td>\n",
       "      <td>False</td>\n",
       "      <td>False</td>\n",
       "      <td>False</td>\n",
       "      <td>False</td>\n",
       "      <td>False</td>\n",
       "      <td>False</td>\n",
       "      <td>False</td>\n",
       "      <td>False</td>\n",
       "      <td>False</td>\n",
       "      <td>False</td>\n",
       "      <td>False</td>\n",
       "      <td>False</td>\n",
       "      <td>False</td>\n",
       "      <td>False</td>\n",
       "      <td>False</td>\n",
       "      <td>True</td>\n",
       "      <td>False</td>\n",
       "      <td>False</td>\n",
       "      <td>False</td>\n",
       "      <td>True</td>\n",
       "    </tr>\n",
       "    <tr>\n",
       "      <th>4</th>\n",
       "      <td>24375.0</td>\n",
       "      <td>60</td>\n",
       "      <td>17.27</td>\n",
       "      <td>16425</td>\n",
       "      <td>1</td>\n",
       "      <td>14522</td>\n",
       "      <td>55000.0</td>\n",
       "      <td>1</td>\n",
       "      <td>47932</td>\n",
       "      <td>33.95</td>\n",
       "      <td>13.0</td>\n",
       "      <td>0</td>\n",
       "      <td>24584.0</td>\n",
       "      <td>69.8</td>\n",
       "      <td>43.0</td>\n",
       "      <td>1</td>\n",
       "      <td>1.0</td>\n",
       "      <td>0.0</td>\n",
       "      <td>2013</td>\n",
       "      <td>1999</td>\n",
       "      <td>True</td>\n",
       "      <td>False</td>\n",
       "      <td>False</td>\n",
       "      <td>False</td>\n",
       "      <td>False</td>\n",
       "      <td>False</td>\n",
       "      <td>False</td>\n",
       "      <td>False</td>\n",
       "      <td>False</td>\n",
       "      <td>False</td>\n",
       "      <td>False</td>\n",
       "      <td>False</td>\n",
       "      <td>False</td>\n",
       "      <td>False</td>\n",
       "      <td>True</td>\n",
       "      <td>False</td>\n",
       "      <td>False</td>\n",
       "      <td>False</td>\n",
       "      <td>False</td>\n",
       "      <td>False</td>\n",
       "      <td>False</td>\n",
       "      <td>False</td>\n",
       "      <td>False</td>\n",
       "      <td>True</td>\n",
       "      <td>False</td>\n",
       "      <td>False</td>\n",
       "      <td>False</td>\n",
       "      <td>False</td>\n",
       "      <td>False</td>\n",
       "      <td>True</td>\n",
       "      <td>True</td>\n",
       "      <td>False</td>\n",
       "      <td>False</td>\n",
       "      <td>False</td>\n",
       "      <td>False</td>\n",
       "    </tr>\n",
       "  </tbody>\n",
       "</table>\n",
       "</div>"
      ],
      "text/plain": [
       "   loan_amnt  term  int_rate  sub_grade  emp_title  emp_length  annual_inc  \\\n",
       "0    10000.0    36     11.44      23316         82      117679    117000.0   \n",
       "1     8000.0    36     11.99      20056          3       22663     65000.0   \n",
       "2    15600.0    36     10.49      24160         10       30066     43057.0   \n",
       "3     7200.0    36      6.49       8574          1       19835     54000.0   \n",
       "4    24375.0    60     17.27      16425          1       14522     55000.0   \n",
       "\n",
       "   loan_status   title    dti  open_acc  pub_rec  revol_bal  revol_util  \\\n",
       "0            0    1671  26.24      16.0        0    36369.0        41.8   \n",
       "1            0  156190  22.05      17.0        0    20131.0        53.3   \n",
       "2            0   47932  12.79      13.0        0    11987.0        92.2   \n",
       "3            0   47932   2.60       6.0        0     5472.0        21.5   \n",
       "4            1   47932  33.95      13.0        0    24584.0        69.8   \n",
       "\n",
       "   total_acc  initial_list_status  mort_acc  pub_rec_bankruptcies  issue_year  \\\n",
       "0       25.0                    0       0.0                   0.0        2015   \n",
       "1       27.0                    1       1.0                   0.0        2015   \n",
       "2       26.0                    1       0.0                   0.0        2015   \n",
       "3       13.0                    1       0.0                   0.0        2014   \n",
       "4       43.0                    1       1.0                   0.0        2013   \n",
       "\n",
       "   earliest_cr_line_year  purpose_credit_card  purpose_debt_consolidation  \\\n",
       "0                   1990                False                       False   \n",
       "1                   2004                False                        True   \n",
       "2                   2007                 True                       False   \n",
       "3                   2006                 True                       False   \n",
       "4                   1999                 True                       False   \n",
       "\n",
       "   purpose_educational  purpose_home_improvement  purpose_house  \\\n",
       "0                False                     False          False   \n",
       "1                False                     False          False   \n",
       "2                False                     False          False   \n",
       "3                False                     False          False   \n",
       "4                False                     False          False   \n",
       "\n",
       "   purpose_major_purchase  purpose_medical  purpose_moving  purpose_other  \\\n",
       "0                   False            False           False          False   \n",
       "1                   False            False           False          False   \n",
       "2                   False            False           False          False   \n",
       "3                   False            False           False          False   \n",
       "4                   False            False           False          False   \n",
       "\n",
       "   purpose_renewable_energy  purpose_small_business  purpose_vacation  \\\n",
       "0                     False                   False              True   \n",
       "1                     False                   False             False   \n",
       "2                     False                   False             False   \n",
       "3                     False                   False             False   \n",
       "4                     False                   False             False   \n",
       "\n",
       "   purpose_wedding  zipcode_05113  zipcode_11650  zipcode_22690  \\\n",
       "0            False          False          False           True   \n",
       "1            False           True          False          False   \n",
       "2            False           True          False          False   \n",
       "3            False          False          False          False   \n",
       "4            False          False           True          False   \n",
       "\n",
       "   zipcode_29597  zipcode_30723  zipcode_48052  zipcode_70466  zipcode_86630  \\\n",
       "0          False          False          False          False          False   \n",
       "1          False          False          False          False          False   \n",
       "2          False          False          False          False          False   \n",
       "3          False          False          False          False          False   \n",
       "4          False          False          False          False          False   \n",
       "\n",
       "   zipcode_93700  grade_B  grade_C  grade_D  grade_E  grade_F  grade_G  \\\n",
       "0          False     True    False    False    False    False    False   \n",
       "1          False     True    False    False    False    False    False   \n",
       "2          False     True    False    False    False    False    False   \n",
       "3          False    False    False    False    False    False    False   \n",
       "4          False    False     True    False    False    False    False   \n",
       "\n",
       "   verification_status_Source Verified  verification_status_Verified  \\\n",
       "0                                False                         False   \n",
       "1                                False                         False   \n",
       "2                                 True                         False   \n",
       "3                                False                         False   \n",
       "4                                False                          True   \n",
       "\n",
       "   application_type_INDIVIDUAL  application_type_JOINT  home_ownership_OTHER  \\\n",
       "0                         True                   False                 False   \n",
       "1                         True                   False                 False   \n",
       "2                         True                   False                 False   \n",
       "3                         True                   False                 False   \n",
       "4                         True                   False                 False   \n",
       "\n",
       "   home_ownership_OWN  home_ownership_RENT  \n",
       "0               False                 True  \n",
       "1               False                False  \n",
       "2               False                 True  \n",
       "3               False                 True  \n",
       "4               False                False  "
      ]
     },
     "execution_count": 83,
     "metadata": {},
     "output_type": "execute_result"
    }
   ],
   "source": [
    "df.head()"
   ]
  },
  {
   "cell_type": "code",
   "execution_count": 84,
   "id": "0f9cf873",
   "metadata": {},
   "outputs": [],
   "source": [
    "bool_columns = df.select_dtypes(include='bool').columns\n",
    "df[bool_columns] = df[bool_columns].astype(int)"
   ]
  },
  {
   "cell_type": "code",
   "execution_count": 85,
   "id": "9ebc16d0",
   "metadata": {},
   "outputs": [
    {
     "data": {
      "text/html": [
       "<div>\n",
       "<style scoped>\n",
       "    .dataframe tbody tr th:only-of-type {\n",
       "        vertical-align: middle;\n",
       "    }\n",
       "\n",
       "    .dataframe tbody tr th {\n",
       "        vertical-align: top;\n",
       "    }\n",
       "\n",
       "    .dataframe thead th {\n",
       "        text-align: right;\n",
       "    }\n",
       "</style>\n",
       "<table border=\"1\" class=\"dataframe\">\n",
       "  <thead>\n",
       "    <tr style=\"text-align: right;\">\n",
       "      <th></th>\n",
       "      <th>loan_amnt</th>\n",
       "      <th>term</th>\n",
       "      <th>int_rate</th>\n",
       "      <th>sub_grade</th>\n",
       "      <th>emp_title</th>\n",
       "      <th>emp_length</th>\n",
       "      <th>annual_inc</th>\n",
       "      <th>loan_status</th>\n",
       "      <th>title</th>\n",
       "      <th>dti</th>\n",
       "      <th>open_acc</th>\n",
       "      <th>pub_rec</th>\n",
       "      <th>revol_bal</th>\n",
       "      <th>revol_util</th>\n",
       "      <th>total_acc</th>\n",
       "      <th>initial_list_status</th>\n",
       "      <th>mort_acc</th>\n",
       "      <th>pub_rec_bankruptcies</th>\n",
       "      <th>issue_year</th>\n",
       "      <th>earliest_cr_line_year</th>\n",
       "      <th>purpose_credit_card</th>\n",
       "      <th>purpose_debt_consolidation</th>\n",
       "      <th>purpose_educational</th>\n",
       "      <th>purpose_home_improvement</th>\n",
       "      <th>purpose_house</th>\n",
       "      <th>purpose_major_purchase</th>\n",
       "      <th>purpose_medical</th>\n",
       "      <th>purpose_moving</th>\n",
       "      <th>purpose_other</th>\n",
       "      <th>purpose_renewable_energy</th>\n",
       "      <th>purpose_small_business</th>\n",
       "      <th>purpose_vacation</th>\n",
       "      <th>purpose_wedding</th>\n",
       "      <th>zipcode_05113</th>\n",
       "      <th>zipcode_11650</th>\n",
       "      <th>zipcode_22690</th>\n",
       "      <th>zipcode_29597</th>\n",
       "      <th>zipcode_30723</th>\n",
       "      <th>zipcode_48052</th>\n",
       "      <th>zipcode_70466</th>\n",
       "      <th>zipcode_86630</th>\n",
       "      <th>zipcode_93700</th>\n",
       "      <th>grade_B</th>\n",
       "      <th>grade_C</th>\n",
       "      <th>grade_D</th>\n",
       "      <th>grade_E</th>\n",
       "      <th>grade_F</th>\n",
       "      <th>grade_G</th>\n",
       "      <th>verification_status_Source Verified</th>\n",
       "      <th>verification_status_Verified</th>\n",
       "      <th>application_type_INDIVIDUAL</th>\n",
       "      <th>application_type_JOINT</th>\n",
       "      <th>home_ownership_OTHER</th>\n",
       "      <th>home_ownership_OWN</th>\n",
       "      <th>home_ownership_RENT</th>\n",
       "    </tr>\n",
       "  </thead>\n",
       "  <tbody>\n",
       "    <tr>\n",
       "      <th>0</th>\n",
       "      <td>10000.0</td>\n",
       "      <td>36</td>\n",
       "      <td>11.44</td>\n",
       "      <td>23316</td>\n",
       "      <td>82</td>\n",
       "      <td>117679</td>\n",
       "      <td>117000.0</td>\n",
       "      <td>0</td>\n",
       "      <td>1671</td>\n",
       "      <td>26.24</td>\n",
       "      <td>16.0</td>\n",
       "      <td>0</td>\n",
       "      <td>36369.0</td>\n",
       "      <td>41.8</td>\n",
       "      <td>25.0</td>\n",
       "      <td>0</td>\n",
       "      <td>0.0</td>\n",
       "      <td>0.0</td>\n",
       "      <td>2015</td>\n",
       "      <td>1990</td>\n",
       "      <td>0</td>\n",
       "      <td>0</td>\n",
       "      <td>0</td>\n",
       "      <td>0</td>\n",
       "      <td>0</td>\n",
       "      <td>0</td>\n",
       "      <td>0</td>\n",
       "      <td>0</td>\n",
       "      <td>0</td>\n",
       "      <td>0</td>\n",
       "      <td>0</td>\n",
       "      <td>1</td>\n",
       "      <td>0</td>\n",
       "      <td>0</td>\n",
       "      <td>0</td>\n",
       "      <td>1</td>\n",
       "      <td>0</td>\n",
       "      <td>0</td>\n",
       "      <td>0</td>\n",
       "      <td>0</td>\n",
       "      <td>0</td>\n",
       "      <td>0</td>\n",
       "      <td>1</td>\n",
       "      <td>0</td>\n",
       "      <td>0</td>\n",
       "      <td>0</td>\n",
       "      <td>0</td>\n",
       "      <td>0</td>\n",
       "      <td>0</td>\n",
       "      <td>0</td>\n",
       "      <td>1</td>\n",
       "      <td>0</td>\n",
       "      <td>0</td>\n",
       "      <td>0</td>\n",
       "      <td>1</td>\n",
       "    </tr>\n",
       "    <tr>\n",
       "      <th>1</th>\n",
       "      <td>8000.0</td>\n",
       "      <td>36</td>\n",
       "      <td>11.99</td>\n",
       "      <td>20056</td>\n",
       "      <td>3</td>\n",
       "      <td>22663</td>\n",
       "      <td>65000.0</td>\n",
       "      <td>0</td>\n",
       "      <td>156190</td>\n",
       "      <td>22.05</td>\n",
       "      <td>17.0</td>\n",
       "      <td>0</td>\n",
       "      <td>20131.0</td>\n",
       "      <td>53.3</td>\n",
       "      <td>27.0</td>\n",
       "      <td>1</td>\n",
       "      <td>1.0</td>\n",
       "      <td>0.0</td>\n",
       "      <td>2015</td>\n",
       "      <td>2004</td>\n",
       "      <td>0</td>\n",
       "      <td>1</td>\n",
       "      <td>0</td>\n",
       "      <td>0</td>\n",
       "      <td>0</td>\n",
       "      <td>0</td>\n",
       "      <td>0</td>\n",
       "      <td>0</td>\n",
       "      <td>0</td>\n",
       "      <td>0</td>\n",
       "      <td>0</td>\n",
       "      <td>0</td>\n",
       "      <td>0</td>\n",
       "      <td>1</td>\n",
       "      <td>0</td>\n",
       "      <td>0</td>\n",
       "      <td>0</td>\n",
       "      <td>0</td>\n",
       "      <td>0</td>\n",
       "      <td>0</td>\n",
       "      <td>0</td>\n",
       "      <td>0</td>\n",
       "      <td>1</td>\n",
       "      <td>0</td>\n",
       "      <td>0</td>\n",
       "      <td>0</td>\n",
       "      <td>0</td>\n",
       "      <td>0</td>\n",
       "      <td>0</td>\n",
       "      <td>0</td>\n",
       "      <td>1</td>\n",
       "      <td>0</td>\n",
       "      <td>0</td>\n",
       "      <td>0</td>\n",
       "      <td>0</td>\n",
       "    </tr>\n",
       "    <tr>\n",
       "      <th>2</th>\n",
       "      <td>15600.0</td>\n",
       "      <td>36</td>\n",
       "      <td>10.49</td>\n",
       "      <td>24160</td>\n",
       "      <td>10</td>\n",
       "      <td>30066</td>\n",
       "      <td>43057.0</td>\n",
       "      <td>0</td>\n",
       "      <td>47932</td>\n",
       "      <td>12.79</td>\n",
       "      <td>13.0</td>\n",
       "      <td>0</td>\n",
       "      <td>11987.0</td>\n",
       "      <td>92.2</td>\n",
       "      <td>26.0</td>\n",
       "      <td>1</td>\n",
       "      <td>0.0</td>\n",
       "      <td>0.0</td>\n",
       "      <td>2015</td>\n",
       "      <td>2007</td>\n",
       "      <td>1</td>\n",
       "      <td>0</td>\n",
       "      <td>0</td>\n",
       "      <td>0</td>\n",
       "      <td>0</td>\n",
       "      <td>0</td>\n",
       "      <td>0</td>\n",
       "      <td>0</td>\n",
       "      <td>0</td>\n",
       "      <td>0</td>\n",
       "      <td>0</td>\n",
       "      <td>0</td>\n",
       "      <td>0</td>\n",
       "      <td>1</td>\n",
       "      <td>0</td>\n",
       "      <td>0</td>\n",
       "      <td>0</td>\n",
       "      <td>0</td>\n",
       "      <td>0</td>\n",
       "      <td>0</td>\n",
       "      <td>0</td>\n",
       "      <td>0</td>\n",
       "      <td>1</td>\n",
       "      <td>0</td>\n",
       "      <td>0</td>\n",
       "      <td>0</td>\n",
       "      <td>0</td>\n",
       "      <td>0</td>\n",
       "      <td>1</td>\n",
       "      <td>0</td>\n",
       "      <td>1</td>\n",
       "      <td>0</td>\n",
       "      <td>0</td>\n",
       "      <td>0</td>\n",
       "      <td>1</td>\n",
       "    </tr>\n",
       "    <tr>\n",
       "      <th>3</th>\n",
       "      <td>7200.0</td>\n",
       "      <td>36</td>\n",
       "      <td>6.49</td>\n",
       "      <td>8574</td>\n",
       "      <td>1</td>\n",
       "      <td>19835</td>\n",
       "      <td>54000.0</td>\n",
       "      <td>0</td>\n",
       "      <td>47932</td>\n",
       "      <td>2.60</td>\n",
       "      <td>6.0</td>\n",
       "      <td>0</td>\n",
       "      <td>5472.0</td>\n",
       "      <td>21.5</td>\n",
       "      <td>13.0</td>\n",
       "      <td>1</td>\n",
       "      <td>0.0</td>\n",
       "      <td>0.0</td>\n",
       "      <td>2014</td>\n",
       "      <td>2006</td>\n",
       "      <td>1</td>\n",
       "      <td>0</td>\n",
       "      <td>0</td>\n",
       "      <td>0</td>\n",
       "      <td>0</td>\n",
       "      <td>0</td>\n",
       "      <td>0</td>\n",
       "      <td>0</td>\n",
       "      <td>0</td>\n",
       "      <td>0</td>\n",
       "      <td>0</td>\n",
       "      <td>0</td>\n",
       "      <td>0</td>\n",
       "      <td>0</td>\n",
       "      <td>0</td>\n",
       "      <td>0</td>\n",
       "      <td>0</td>\n",
       "      <td>0</td>\n",
       "      <td>0</td>\n",
       "      <td>0</td>\n",
       "      <td>0</td>\n",
       "      <td>0</td>\n",
       "      <td>0</td>\n",
       "      <td>0</td>\n",
       "      <td>0</td>\n",
       "      <td>0</td>\n",
       "      <td>0</td>\n",
       "      <td>0</td>\n",
       "      <td>0</td>\n",
       "      <td>0</td>\n",
       "      <td>1</td>\n",
       "      <td>0</td>\n",
       "      <td>0</td>\n",
       "      <td>0</td>\n",
       "      <td>1</td>\n",
       "    </tr>\n",
       "    <tr>\n",
       "      <th>4</th>\n",
       "      <td>24375.0</td>\n",
       "      <td>60</td>\n",
       "      <td>17.27</td>\n",
       "      <td>16425</td>\n",
       "      <td>1</td>\n",
       "      <td>14522</td>\n",
       "      <td>55000.0</td>\n",
       "      <td>1</td>\n",
       "      <td>47932</td>\n",
       "      <td>33.95</td>\n",
       "      <td>13.0</td>\n",
       "      <td>0</td>\n",
       "      <td>24584.0</td>\n",
       "      <td>69.8</td>\n",
       "      <td>43.0</td>\n",
       "      <td>1</td>\n",
       "      <td>1.0</td>\n",
       "      <td>0.0</td>\n",
       "      <td>2013</td>\n",
       "      <td>1999</td>\n",
       "      <td>1</td>\n",
       "      <td>0</td>\n",
       "      <td>0</td>\n",
       "      <td>0</td>\n",
       "      <td>0</td>\n",
       "      <td>0</td>\n",
       "      <td>0</td>\n",
       "      <td>0</td>\n",
       "      <td>0</td>\n",
       "      <td>0</td>\n",
       "      <td>0</td>\n",
       "      <td>0</td>\n",
       "      <td>0</td>\n",
       "      <td>0</td>\n",
       "      <td>1</td>\n",
       "      <td>0</td>\n",
       "      <td>0</td>\n",
       "      <td>0</td>\n",
       "      <td>0</td>\n",
       "      <td>0</td>\n",
       "      <td>0</td>\n",
       "      <td>0</td>\n",
       "      <td>0</td>\n",
       "      <td>1</td>\n",
       "      <td>0</td>\n",
       "      <td>0</td>\n",
       "      <td>0</td>\n",
       "      <td>0</td>\n",
       "      <td>0</td>\n",
       "      <td>1</td>\n",
       "      <td>1</td>\n",
       "      <td>0</td>\n",
       "      <td>0</td>\n",
       "      <td>0</td>\n",
       "      <td>0</td>\n",
       "    </tr>\n",
       "  </tbody>\n",
       "</table>\n",
       "</div>"
      ],
      "text/plain": [
       "   loan_amnt  term  int_rate  sub_grade  emp_title  emp_length  annual_inc  \\\n",
       "0    10000.0    36     11.44      23316         82      117679    117000.0   \n",
       "1     8000.0    36     11.99      20056          3       22663     65000.0   \n",
       "2    15600.0    36     10.49      24160         10       30066     43057.0   \n",
       "3     7200.0    36      6.49       8574          1       19835     54000.0   \n",
       "4    24375.0    60     17.27      16425          1       14522     55000.0   \n",
       "\n",
       "   loan_status   title    dti  open_acc  pub_rec  revol_bal  revol_util  \\\n",
       "0            0    1671  26.24      16.0        0    36369.0        41.8   \n",
       "1            0  156190  22.05      17.0        0    20131.0        53.3   \n",
       "2            0   47932  12.79      13.0        0    11987.0        92.2   \n",
       "3            0   47932   2.60       6.0        0     5472.0        21.5   \n",
       "4            1   47932  33.95      13.0        0    24584.0        69.8   \n",
       "\n",
       "   total_acc  initial_list_status  mort_acc  pub_rec_bankruptcies  issue_year  \\\n",
       "0       25.0                    0       0.0                   0.0        2015   \n",
       "1       27.0                    1       1.0                   0.0        2015   \n",
       "2       26.0                    1       0.0                   0.0        2015   \n",
       "3       13.0                    1       0.0                   0.0        2014   \n",
       "4       43.0                    1       1.0                   0.0        2013   \n",
       "\n",
       "   earliest_cr_line_year  purpose_credit_card  purpose_debt_consolidation  \\\n",
       "0                   1990                    0                           0   \n",
       "1                   2004                    0                           1   \n",
       "2                   2007                    1                           0   \n",
       "3                   2006                    1                           0   \n",
       "4                   1999                    1                           0   \n",
       "\n",
       "   purpose_educational  purpose_home_improvement  purpose_house  \\\n",
       "0                    0                         0              0   \n",
       "1                    0                         0              0   \n",
       "2                    0                         0              0   \n",
       "3                    0                         0              0   \n",
       "4                    0                         0              0   \n",
       "\n",
       "   purpose_major_purchase  purpose_medical  purpose_moving  purpose_other  \\\n",
       "0                       0                0               0              0   \n",
       "1                       0                0               0              0   \n",
       "2                       0                0               0              0   \n",
       "3                       0                0               0              0   \n",
       "4                       0                0               0              0   \n",
       "\n",
       "   purpose_renewable_energy  purpose_small_business  purpose_vacation  \\\n",
       "0                         0                       0                 1   \n",
       "1                         0                       0                 0   \n",
       "2                         0                       0                 0   \n",
       "3                         0                       0                 0   \n",
       "4                         0                       0                 0   \n",
       "\n",
       "   purpose_wedding  zipcode_05113  zipcode_11650  zipcode_22690  \\\n",
       "0                0              0              0              1   \n",
       "1                0              1              0              0   \n",
       "2                0              1              0              0   \n",
       "3                0              0              0              0   \n",
       "4                0              0              1              0   \n",
       "\n",
       "   zipcode_29597  zipcode_30723  zipcode_48052  zipcode_70466  zipcode_86630  \\\n",
       "0              0              0              0              0              0   \n",
       "1              0              0              0              0              0   \n",
       "2              0              0              0              0              0   \n",
       "3              0              0              0              0              0   \n",
       "4              0              0              0              0              0   \n",
       "\n",
       "   zipcode_93700  grade_B  grade_C  grade_D  grade_E  grade_F  grade_G  \\\n",
       "0              0        1        0        0        0        0        0   \n",
       "1              0        1        0        0        0        0        0   \n",
       "2              0        1        0        0        0        0        0   \n",
       "3              0        0        0        0        0        0        0   \n",
       "4              0        0        1        0        0        0        0   \n",
       "\n",
       "   verification_status_Source Verified  verification_status_Verified  \\\n",
       "0                                    0                             0   \n",
       "1                                    0                             0   \n",
       "2                                    1                             0   \n",
       "3                                    0                             0   \n",
       "4                                    0                             1   \n",
       "\n",
       "   application_type_INDIVIDUAL  application_type_JOINT  home_ownership_OTHER  \\\n",
       "0                            1                       0                     0   \n",
       "1                            1                       0                     0   \n",
       "2                            1                       0                     0   \n",
       "3                            1                       0                     0   \n",
       "4                            1                       0                     0   \n",
       "\n",
       "   home_ownership_OWN  home_ownership_RENT  \n",
       "0                   0                    1  \n",
       "1                   0                    0  \n",
       "2                   0                    1  \n",
       "3                   0                    1  \n",
       "4                   0                    0  "
      ]
     },
     "execution_count": 85,
     "metadata": {},
     "output_type": "execute_result"
    }
   ],
   "source": [
    "df.head()"
   ]
  },
  {
   "cell_type": "markdown",
   "id": "5b9c0e67",
   "metadata": {},
   "source": [
    "### Data preparation"
   ]
  },
  {
   "cell_type": "code",
   "execution_count": 86,
   "id": "92da5620",
   "metadata": {},
   "outputs": [],
   "source": [
    "X = df.drop('loan_status', axis=1)\n",
    "y=df['loan_status']"
   ]
  },
  {
   "cell_type": "code",
   "execution_count": 87,
   "id": "ff4a9f90",
   "metadata": {},
   "outputs": [],
   "source": [
    "# Importing train_test_split from sklearn\n",
    "\n",
    "from sklearn.model_selection import train_test_split"
   ]
  },
  {
   "cell_type": "code",
   "execution_count": 88,
   "id": "11792ee1",
   "metadata": {},
   "outputs": [],
   "source": [
    "X_train, X_test, y_train, y_test = train_test_split(X, y, test_size=0.3, random_state=42)"
   ]
  },
  {
   "cell_type": "code",
   "execution_count": 89,
   "id": "bd44bc76",
   "metadata": {},
   "outputs": [
    {
     "data": {
      "text/plain": [
       "((249562, 54), (106956, 54))"
      ]
     },
     "execution_count": 89,
     "metadata": {},
     "output_type": "execute_result"
    }
   ],
   "source": [
    "X_train.shape, X_test.shape"
   ]
  },
  {
   "cell_type": "markdown",
   "id": "9a3f1f3b",
   "metadata": {},
   "source": [
    "### Standardizing the columns using StandardScaler"
   ]
  },
  {
   "cell_type": "code",
   "execution_count": 90,
   "id": "1408cece",
   "metadata": {},
   "outputs": [],
   "source": [
    "from sklearn.preprocessing import StandardScaler"
   ]
  },
  {
   "cell_type": "code",
   "execution_count": 91,
   "id": "179b8bf4",
   "metadata": {},
   "outputs": [],
   "source": [
    "scaler = StandardScaler()\n",
    "X_train= scaler.fit_transform(X_train)\n",
    "X_test = scaler.transform(X_test)"
   ]
  },
  {
   "cell_type": "markdown",
   "id": "1c85c6bf",
   "metadata": {},
   "source": [
    "### Logistic Regression"
   ]
  },
  {
   "cell_type": "code",
   "execution_count": 92,
   "id": "d1e349ed",
   "metadata": {},
   "outputs": [],
   "source": [
    "from sklearn.linear_model import LogisticRegression\n",
    "from sklearn.metrics import accuracy_score\n",
    "from sklearn.feature_selection import RFE"
   ]
  },
  {
   "cell_type": "code",
   "execution_count": 93,
   "id": "1d4dc75f",
   "metadata": {},
   "outputs": [],
   "source": [
    "log_reg = LogisticRegression(max_iter=1000)"
   ]
  },
  {
   "cell_type": "code",
   "execution_count": 94,
   "id": "e909479a",
   "metadata": {},
   "outputs": [
    {
     "data": {
      "text/html": [
       "<style>#sk-container-id-1 {color: black;}#sk-container-id-1 pre{padding: 0;}#sk-container-id-1 div.sk-toggleable {background-color: white;}#sk-container-id-1 label.sk-toggleable__label {cursor: pointer;display: block;width: 100%;margin-bottom: 0;padding: 0.3em;box-sizing: border-box;text-align: center;}#sk-container-id-1 label.sk-toggleable__label-arrow:before {content: \"▸\";float: left;margin-right: 0.25em;color: #696969;}#sk-container-id-1 label.sk-toggleable__label-arrow:hover:before {color: black;}#sk-container-id-1 div.sk-estimator:hover label.sk-toggleable__label-arrow:before {color: black;}#sk-container-id-1 div.sk-toggleable__content {max-height: 0;max-width: 0;overflow: hidden;text-align: left;background-color: #f0f8ff;}#sk-container-id-1 div.sk-toggleable__content pre {margin: 0.2em;color: black;border-radius: 0.25em;background-color: #f0f8ff;}#sk-container-id-1 input.sk-toggleable__control:checked~div.sk-toggleable__content {max-height: 200px;max-width: 100%;overflow: auto;}#sk-container-id-1 input.sk-toggleable__control:checked~label.sk-toggleable__label-arrow:before {content: \"▾\";}#sk-container-id-1 div.sk-estimator input.sk-toggleable__control:checked~label.sk-toggleable__label {background-color: #d4ebff;}#sk-container-id-1 div.sk-label input.sk-toggleable__control:checked~label.sk-toggleable__label {background-color: #d4ebff;}#sk-container-id-1 input.sk-hidden--visually {border: 0;clip: rect(1px 1px 1px 1px);clip: rect(1px, 1px, 1px, 1px);height: 1px;margin: -1px;overflow: hidden;padding: 0;position: absolute;width: 1px;}#sk-container-id-1 div.sk-estimator {font-family: monospace;background-color: #f0f8ff;border: 1px dotted black;border-radius: 0.25em;box-sizing: border-box;margin-bottom: 0.5em;}#sk-container-id-1 div.sk-estimator:hover {background-color: #d4ebff;}#sk-container-id-1 div.sk-parallel-item::after {content: \"\";width: 100%;border-bottom: 1px solid gray;flex-grow: 1;}#sk-container-id-1 div.sk-label:hover label.sk-toggleable__label {background-color: #d4ebff;}#sk-container-id-1 div.sk-serial::before {content: \"\";position: absolute;border-left: 1px solid gray;box-sizing: border-box;top: 0;bottom: 0;left: 50%;z-index: 0;}#sk-container-id-1 div.sk-serial {display: flex;flex-direction: column;align-items: center;background-color: white;padding-right: 0.2em;padding-left: 0.2em;position: relative;}#sk-container-id-1 div.sk-item {position: relative;z-index: 1;}#sk-container-id-1 div.sk-parallel {display: flex;align-items: stretch;justify-content: center;background-color: white;position: relative;}#sk-container-id-1 div.sk-item::before, #sk-container-id-1 div.sk-parallel-item::before {content: \"\";position: absolute;border-left: 1px solid gray;box-sizing: border-box;top: 0;bottom: 0;left: 50%;z-index: -1;}#sk-container-id-1 div.sk-parallel-item {display: flex;flex-direction: column;z-index: 1;position: relative;background-color: white;}#sk-container-id-1 div.sk-parallel-item:first-child::after {align-self: flex-end;width: 50%;}#sk-container-id-1 div.sk-parallel-item:last-child::after {align-self: flex-start;width: 50%;}#sk-container-id-1 div.sk-parallel-item:only-child::after {width: 0;}#sk-container-id-1 div.sk-dashed-wrapped {border: 1px dashed gray;margin: 0 0.4em 0.5em 0.4em;box-sizing: border-box;padding-bottom: 0.4em;background-color: white;}#sk-container-id-1 div.sk-label label {font-family: monospace;font-weight: bold;display: inline-block;line-height: 1.2em;}#sk-container-id-1 div.sk-label-container {text-align: center;}#sk-container-id-1 div.sk-container {/* jupyter's `normalize.less` sets `[hidden] { display: none; }` but bootstrap.min.css set `[hidden] { display: none !important; }` so we also need the `!important` here to be able to override the default hidden behavior on the sphinx rendered scikit-learn.org. See: https://github.com/scikit-learn/scikit-learn/issues/21755 */display: inline-block !important;position: relative;}#sk-container-id-1 div.sk-text-repr-fallback {display: none;}</style><div id=\"sk-container-id-1\" class=\"sk-top-container\"><div class=\"sk-text-repr-fallback\"><pre>LogisticRegression(max_iter=1000)</pre><b>In a Jupyter environment, please rerun this cell to show the HTML representation or trust the notebook. <br />On GitHub, the HTML representation is unable to render, please try loading this page with nbviewer.org.</b></div><div class=\"sk-container\" hidden><div class=\"sk-item\"><div class=\"sk-estimator sk-toggleable\"><input class=\"sk-toggleable__control sk-hidden--visually\" id=\"sk-estimator-id-1\" type=\"checkbox\" checked><label for=\"sk-estimator-id-1\" class=\"sk-toggleable__label sk-toggleable__label-arrow\">LogisticRegression</label><div class=\"sk-toggleable__content\"><pre>LogisticRegression(max_iter=1000)</pre></div></div></div></div></div>"
      ],
      "text/plain": [
       "LogisticRegression(max_iter=1000)"
      ]
     },
     "execution_count": 94,
     "metadata": {},
     "output_type": "execute_result"
    }
   ],
   "source": [
    "# Fit the model\n",
    "log_reg.fit(X_train, y_train)"
   ]
  },
  {
   "cell_type": "code",
   "execution_count": 95,
   "id": "dc21f6af",
   "metadata": {},
   "outputs": [
    {
     "name": "stdout",
     "output_type": "stream",
     "text": [
      "Training Accuracy: 0.8911212444202242\n"
     ]
    }
   ],
   "source": [
    "# Predictions on the training set\n",
    "train_predictions = log_reg.predict(X_train)\n",
    "\n",
    "# Calculate training accuracy\n",
    "train_accuracy = accuracy_score(y_train, train_predictions)\n",
    "print(\"Training Accuracy:\", train_accuracy)"
   ]
  },
  {
   "cell_type": "code",
   "execution_count": 96,
   "id": "5d6c97e7",
   "metadata": {},
   "outputs": [],
   "source": [
    "# Model coefficients with column names\n",
    "coefficients = log_reg.coef_[0]\n",
    "intercept = log_reg.intercept_[0]"
   ]
  },
  {
   "cell_type": "code",
   "execution_count": 97,
   "id": "a0e277db",
   "metadata": {},
   "outputs": [
    {
     "name": "stdout",
     "output_type": "stream",
     "text": [
      "Model Coefficients:\n",
      "                                Feature  Coefficient\n",
      "0                             loan_amnt     0.122185\n",
      "1                                  term     0.183110\n",
      "2                              int_rate     0.094556\n",
      "3                             sub_grade    -0.010790\n",
      "4                             emp_title     0.016769\n",
      "5                            emp_length    -0.012197\n",
      "6                            annual_inc    -0.176200\n",
      "7                                 title     0.105397\n",
      "8                                   dti     0.185084\n",
      "9                              open_acc     0.123799\n",
      "10                              pub_rec     0.065128\n",
      "11                            revol_bal    -0.083890\n",
      "12                           revol_util     0.105392\n",
      "13                            total_acc    -0.109258\n",
      "14                  initial_list_status     0.026764\n",
      "15                             mort_acc    -0.040245\n",
      "16                 pub_rec_bankruptcies    -0.064992\n",
      "17                           issue_year     0.045949\n",
      "18                earliest_cr_line_year    -0.011633\n",
      "19                  purpose_credit_card     0.019668\n",
      "20           purpose_debt_consolidation     0.013227\n",
      "21                  purpose_educational     0.016307\n",
      "22             purpose_home_improvement     0.059611\n",
      "23                        purpose_house     0.009697\n",
      "24               purpose_major_purchase     0.034359\n",
      "25                      purpose_medical     0.035667\n",
      "26                       purpose_moving     0.023984\n",
      "27                        purpose_other     0.042588\n",
      "28             purpose_renewable_energy     0.016429\n",
      "29               purpose_small_business     0.070806\n",
      "30                     purpose_vacation     0.008852\n",
      "31                      purpose_wedding    -0.019565\n",
      "32                        zipcode_05113    -0.933175\n",
      "33                        zipcode_11650     2.992863\n",
      "34                        zipcode_22690     2.535801\n",
      "35                        zipcode_29597    -0.934011\n",
      "36                        zipcode_30723     2.543941\n",
      "37                        zipcode_48052     2.543672\n",
      "38                        zipcode_70466     2.550835\n",
      "39                        zipcode_86630     2.967498\n",
      "40                        zipcode_93700     2.991425\n",
      "41                              grade_B     0.245853\n",
      "42                              grade_C     0.402879\n",
      "43                              grade_D     0.418679\n",
      "44                              grade_E     0.347772\n",
      "45                              grade_F     0.230075\n",
      "46                              grade_G     0.109798\n",
      "47  verification_status_Source Verified     0.086650\n",
      "48         verification_status_Verified     0.034408\n",
      "49          application_type_INDIVIDUAL     0.037030\n",
      "50               application_type_JOINT     0.000011\n",
      "51                 home_ownership_OTHER     0.009169\n",
      "52                   home_ownership_OWN     0.029336\n",
      "53                  home_ownership_RENT     0.116192\n",
      "\n",
      "Intercept: -3.9150397847310976\n",
      "\n"
     ]
    }
   ],
   "source": [
    "# Creating a DataFrame to display coefficients with column names\n",
    "coefficients_df = pd.DataFrame({'Feature': X.columns, 'Coefficient': coefficients})\n",
    "\n",
    "print(\"Model Coefficients:\")\n",
    "print(coefficients_df)\n",
    "print(f\"\\nIntercept: {intercept}\\n\")\n"
   ]
  },
  {
   "cell_type": "markdown",
   "id": "78f17a29",
   "metadata": {},
   "source": [
    "#### Confusion Matrix"
   ]
  },
  {
   "cell_type": "code",
   "execution_count": 99,
   "id": "aaf87d59",
   "metadata": {},
   "outputs": [],
   "source": [
    "from sklearn.metrics import confusion_matrix"
   ]
  },
  {
   "cell_type": "code",
   "execution_count": 100,
   "id": "0feed3e1",
   "metadata": {},
   "outputs": [],
   "source": [
    "# Predictions on the testing set\n",
    "y_pred = log_reg.predict(X_test)\n",
    "\n",
    "# Creating confusion matrix\n",
    "confusion_mat = confusion_matrix(y_true= y_test, y_pred=y_pred)"
   ]
  },
  {
   "cell_type": "code",
   "execution_count": 101,
   "id": "0e31e9b0",
   "metadata": {},
   "outputs": [
    {
     "data": {
      "text/plain": [
       "array([[85845,   580],\n",
       "       [10950,  9581]], dtype=int64)"
      ]
     },
     "execution_count": 101,
     "metadata": {},
     "output_type": "execute_result"
    }
   ],
   "source": [
    "confusion_mat"
   ]
  },
  {
   "cell_type": "markdown",
   "id": "e496d271",
   "metadata": {},
   "source": [
    "#### Classification Report"
   ]
  },
  {
   "cell_type": "code",
   "execution_count": 102,
   "id": "1f7f5123",
   "metadata": {},
   "outputs": [],
   "source": [
    "from sklearn.metrics import classification_report"
   ]
  },
  {
   "cell_type": "code",
   "execution_count": 103,
   "id": "efcb7540",
   "metadata": {
    "scrolled": true
   },
   "outputs": [
    {
     "name": "stdout",
     "output_type": "stream",
     "text": [
      "              precision    recall  f1-score   support\n",
      "\n",
      "           0       0.89      0.99      0.94     86425\n",
      "           1       0.94      0.47      0.62     20531\n",
      "\n",
      "    accuracy                           0.89    106956\n",
      "   macro avg       0.91      0.73      0.78    106956\n",
      "weighted avg       0.90      0.89      0.88    106956\n",
      "\n"
     ]
    }
   ],
   "source": [
    "print(classification_report(y_true=y_test, y_pred=y_pred))"
   ]
  },
  {
   "cell_type": "markdown",
   "id": "587fe499",
   "metadata": {},
   "source": [
    "- From the above classification report, we can observe that there is high precision but the recall and f1-score metrics are low.\n",
    "\n",
    "- For a company like LoanTap Recall is a more important metric than the precision as they cannot let go of some risky customers as their customer base is already less compared to bigger financial institutions."
   ]
  },
  {
   "cell_type": "markdown",
   "id": "5bcf7955",
   "metadata": {},
   "source": [
    "### ROC Curve"
   ]
  },
  {
   "cell_type": "markdown",
   "id": "fc4d78d0",
   "metadata": {},
   "source": [
    "- The ROC curve is created by varying the classification threshold of the model and plotting the true positive rate against the false positive rate at each threshold. \n",
    "- The diagonal line (from the bottom-left to the top-right) represents a random classifier with no predictive power. \n",
    "- A good classifier's ROC curve will be situated toward the top-left corner, indicating high true positive rates and low false positive rates across different threshold values."
   ]
  },
  {
   "cell_type": "markdown",
   "id": "25c0e9bf",
   "metadata": {},
   "source": [
    "#### AUC (Area under the ROC curve)"
   ]
  },
  {
   "cell_type": "markdown",
   "id": "436e0174",
   "metadata": {},
   "source": [
    "- A higher AUC-ROC value (closer to 1) indicates better overall performance, while an AUC-ROC of 0.5 suggests a classifier performing no better than random chance."
   ]
  },
  {
   "cell_type": "code",
   "execution_count": 104,
   "id": "4cdf7126",
   "metadata": {},
   "outputs": [],
   "source": [
    "from sklearn.metrics import roc_auc_score, roc_curve"
   ]
  },
  {
   "cell_type": "code",
   "execution_count": 105,
   "id": "fff52558",
   "metadata": {},
   "outputs": [
    {
     "data": {
      "image/png": "[encoded data removed]",
      "text/plain": [
       "<Figure size 432x288 with 1 Axes>"
      ]
     },
     "metadata": {
      "needs_background": "light"
     },
     "output_type": "display_data"
    }
   ],
   "source": [
    "roc_auc = roc_auc_score(y_test, y_pred)\n",
    "fpr, tpr, thresholds = roc_curve(y_test, log_reg.predict_proba(X_test)[:, 1])\n",
    "\n",
    "plt.figure()\n",
    "plt.plot(fpr, tpr, label='Logistic Regression (area = %0.3f)' % roc_auc)\n",
    "plt.plot([0, 1], [0, 1], 'r--')\n",
    "plt.xlim([0.0, 1.0])\n",
    "plt.ylim([0.0, 1.05])\n",
    "plt.xlabel('False Positive Rate')\n",
    "plt.ylabel('True Positive Rate')\n",
    "plt.title('Receiver Operating Characteristic')\n",
    "plt.legend(loc=\"lower right\")\n",
    "plt.savefig('Log_ROC')\n",
    "plt.grid()\n",
    "plt.show()"
   ]
  },
  {
   "cell_type": "markdown",
   "id": "cb190c3d",
   "metadata": {},
   "source": [
    "- Area under the ROC curve is 0.73. This has to be closer to 1 to get a well performing model."
   ]
  },
  {
   "cell_type": "markdown",
   "id": "0eea6f51",
   "metadata": {},
   "source": [
    "### Precision - Recall curve"
   ]
  },
  {
   "cell_type": "code",
   "execution_count": 106,
   "id": "911054df",
   "metadata": {},
   "outputs": [],
   "source": [
    "from sklearn.metrics import precision_recall_curve"
   ]
  },
  {
   "cell_type": "code",
   "execution_count": 107,
   "id": "fbafbe49",
   "metadata": {},
   "outputs": [
    {
     "data": {
      "image/png": "[encoded data removed]",
      "text/plain": [
       "<Figure size 576x432 with 1 Axes>"
      ]
     },
     "metadata": {
      "needs_background": "light"
     },
     "output_type": "display_data"
    }
   ],
   "source": [
    "y_scores = log_reg.predict_proba(X_test)[:, 1] \n",
    "\n",
    "precision, recall, thresholds = precision_recall_curve(y_test, y_scores)\n",
    "\n",
    "# Plot Precision-Recall curve\n",
    "plt.figure(figsize=(8, 6))\n",
    "plt.plot(thresholds, precision[:-1], color='blue', label='Precision')\n",
    "plt.plot(thresholds, recall[:-1], color='green', label='Recall')\n",
    "\n",
    "plt.xlabel('Threshold value')\n",
    "plt.ylabel('Precision and Recall values')\n",
    "plt.title('Precision-Recall Curve')\n",
    "plt.legend(loc='best')\n",
    "plt.savefig('Precision-Recall curve')\n",
    "plt.grid()\n",
    "plt.show()"
   ]
  },
  {
   "cell_type": "markdown",
   "id": "5670b75f",
   "metadata": {},
   "source": [
    "- The trade-off threshold value is less for our initial logistic regression model. So, the model will predict more outcomes as positive which in turn might be increasing False Positives. False positives are the NPAs (Non performing assets) to LoanTap.\n",
    "- So we should try to increase threshold value which will help to increase the true positives. But keeping too high values for threshold will increase False Negatives."
   ]
  },
  {
   "cell_type": "markdown",
   "id": "1b4c107c",
   "metadata": {},
   "source": [
    "### Checking Multicollinearity using VIF (Variance Inflation Factor)"
   ]
  },
  {
   "cell_type": "code",
   "execution_count": 108,
   "id": "2cbaf22e",
   "metadata": {},
   "outputs": [],
   "source": [
    "from statsmodels.stats.outliers_influence import variance_inflation_factor"
   ]
  },
  {
   "cell_type": "code",
   "execution_count": 109,
   "id": "e9aa7fa2",
   "metadata": {},
   "outputs": [],
   "source": [
    "# Creating a function to calculate VIF for all the columns\n",
    "\n",
    "def calc_vif(X):\n",
    "    # Calculating the VIF\n",
    "    vif = pd.DataFrame()\n",
    "    vif['Feature'] = X.columns\n",
    "    vif['VIF'] = [variance_inflation_factor(X.values, i) for i in range(X.shape[1])]\n",
    "    vif['VIF'] = round(vif['VIF'], 2)\n",
    "    vif = vif.sort_values(by='VIF', ascending=False)\n",
    "    return vif"
   ]
  },
  {
   "cell_type": "code",
   "execution_count": 110,
   "id": "2f300ea6",
   "metadata": {},
   "outputs": [
    {
     "data": {
      "text/html": [
       "<div>\n",
       "<style scoped>\n",
       "    .dataframe tbody tr th:only-of-type {\n",
       "        vertical-align: middle;\n",
       "    }\n",
       "\n",
       "    .dataframe tbody tr th {\n",
       "        vertical-align: top;\n",
       "    }\n",
       "\n",
       "    .dataframe thead th {\n",
       "        text-align: right;\n",
       "    }\n",
       "</style>\n",
       "<table border=\"1\" class=\"dataframe\">\n",
       "  <thead>\n",
       "    <tr style=\"text-align: right;\">\n",
       "      <th></th>\n",
       "      <th>Feature</th>\n",
       "      <th>VIF</th>\n",
       "    </tr>\n",
       "  </thead>\n",
       "  <tbody>\n",
       "    <tr>\n",
       "      <th>17</th>\n",
       "      <td>issue_year</td>\n",
       "      <td>113281.14</td>\n",
       "    </tr>\n",
       "    <tr>\n",
       "      <th>18</th>\n",
       "      <td>earliest_cr_line_year</td>\n",
       "      <td>107929.73</td>\n",
       "    </tr>\n",
       "    <tr>\n",
       "      <th>49</th>\n",
       "      <td>application_type_INDIVIDUAL</td>\n",
       "      <td>4685.17</td>\n",
       "    </tr>\n",
       "    <tr>\n",
       "      <th>2</th>\n",
       "      <td>int_rate</td>\n",
       "      <td>126.00</td>\n",
       "    </tr>\n",
       "    <tr>\n",
       "      <th>3</th>\n",
       "      <td>sub_grade</td>\n",
       "      <td>56.64</td>\n",
       "    </tr>\n",
       "  </tbody>\n",
       "</table>\n",
       "</div>"
      ],
      "text/plain": [
       "                        Feature        VIF\n",
       "17                   issue_year  113281.14\n",
       "18        earliest_cr_line_year  107929.73\n",
       "49  application_type_INDIVIDUAL    4685.17\n",
       "2                      int_rate     126.00\n",
       "3                     sub_grade      56.64"
      ]
     },
     "execution_count": 110,
     "metadata": {},
     "output_type": "execute_result"
    }
   ],
   "source": [
    "calc_vif(X)[:5]"
   ]
  },
  {
   "cell_type": "markdown",
   "id": "8815f11a",
   "metadata": {},
   "source": [
    "- In general, a VIF (Variance Inflation Factor) value of 10 or higher is often considered an indication of potential multicollinearity in the data.\n",
    "- So, let's remove the features that has VIF score greater than 10 one after the other and check VIF after every step."
   ]
  },
  {
   "cell_type": "code",
   "execution_count": 111,
   "id": "92ae57ce",
   "metadata": {},
   "outputs": [
    {
     "data": {
      "text/html": [
       "<div>\n",
       "<style scoped>\n",
       "    .dataframe tbody tr th:only-of-type {\n",
       "        vertical-align: middle;\n",
       "    }\n",
       "\n",
       "    .dataframe tbody tr th {\n",
       "        vertical-align: top;\n",
       "    }\n",
       "\n",
       "    .dataframe thead th {\n",
       "        text-align: right;\n",
       "    }\n",
       "</style>\n",
       "<table border=\"1\" class=\"dataframe\">\n",
       "  <thead>\n",
       "    <tr style=\"text-align: right;\">\n",
       "      <th></th>\n",
       "      <th>Feature</th>\n",
       "      <th>VIF</th>\n",
       "    </tr>\n",
       "  </thead>\n",
       "  <tbody>\n",
       "    <tr>\n",
       "      <th>17</th>\n",
       "      <td>earliest_cr_line_year</td>\n",
       "      <td>4652.17</td>\n",
       "    </tr>\n",
       "    <tr>\n",
       "      <th>48</th>\n",
       "      <td>application_type_INDIVIDUAL</td>\n",
       "      <td>4496.78</td>\n",
       "    </tr>\n",
       "    <tr>\n",
       "      <th>2</th>\n",
       "      <td>int_rate</td>\n",
       "      <td>126.00</td>\n",
       "    </tr>\n",
       "    <tr>\n",
       "      <th>3</th>\n",
       "      <td>sub_grade</td>\n",
       "      <td>56.64</td>\n",
       "    </tr>\n",
       "    <tr>\n",
       "      <th>19</th>\n",
       "      <td>purpose_debt_consolidation</td>\n",
       "      <td>54.18</td>\n",
       "    </tr>\n",
       "  </tbody>\n",
       "</table>\n",
       "</div>"
      ],
      "text/plain": [
       "                        Feature      VIF\n",
       "17        earliest_cr_line_year  4652.17\n",
       "48  application_type_INDIVIDUAL  4496.78\n",
       "2                      int_rate   126.00\n",
       "3                     sub_grade    56.64\n",
       "19   purpose_debt_consolidation    54.18"
      ]
     },
     "execution_count": 111,
     "metadata": {},
     "output_type": "execute_result"
    }
   ],
   "source": [
    "X.drop(columns=['issue_year'], axis=1, inplace=True)\n",
    "calc_vif(X)[:5]"
   ]
  },
  {
   "cell_type": "code",
   "execution_count": 112,
   "id": "e5c82985",
   "metadata": {},
   "outputs": [
    {
     "data": {
      "text/html": [
       "<div>\n",
       "<style scoped>\n",
       "    .dataframe tbody tr th:only-of-type {\n",
       "        vertical-align: middle;\n",
       "    }\n",
       "\n",
       "    .dataframe tbody tr th {\n",
       "        vertical-align: top;\n",
       "    }\n",
       "\n",
       "    .dataframe thead th {\n",
       "        text-align: right;\n",
       "    }\n",
       "</style>\n",
       "<table border=\"1\" class=\"dataframe\">\n",
       "  <thead>\n",
       "    <tr style=\"text-align: right;\">\n",
       "      <th></th>\n",
       "      <th>Feature</th>\n",
       "      <th>VIF</th>\n",
       "    </tr>\n",
       "  </thead>\n",
       "  <tbody>\n",
       "    <tr>\n",
       "      <th>47</th>\n",
       "      <td>application_type_INDIVIDUAL</td>\n",
       "      <td>182.70</td>\n",
       "    </tr>\n",
       "    <tr>\n",
       "      <th>2</th>\n",
       "      <td>int_rate</td>\n",
       "      <td>125.24</td>\n",
       "    </tr>\n",
       "    <tr>\n",
       "      <th>3</th>\n",
       "      <td>sub_grade</td>\n",
       "      <td>56.35</td>\n",
       "    </tr>\n",
       "    <tr>\n",
       "      <th>18</th>\n",
       "      <td>purpose_debt_consolidation</td>\n",
       "      <td>53.50</td>\n",
       "    </tr>\n",
       "    <tr>\n",
       "      <th>1</th>\n",
       "      <td>term</td>\n",
       "      <td>27.30</td>\n",
       "    </tr>\n",
       "  </tbody>\n",
       "</table>\n",
       "</div>"
      ],
      "text/plain": [
       "                        Feature     VIF\n",
       "47  application_type_INDIVIDUAL  182.70\n",
       "2                      int_rate  125.24\n",
       "3                     sub_grade   56.35\n",
       "18   purpose_debt_consolidation   53.50\n",
       "1                          term   27.30"
      ]
     },
     "execution_count": 112,
     "metadata": {},
     "output_type": "execute_result"
    }
   ],
   "source": [
    "X.drop(columns=['earliest_cr_line_year'], axis=1, inplace=True)\n",
    "calc_vif(X)[:5]"
   ]
  },
  {
   "cell_type": "code",
   "execution_count": 113,
   "id": "e9b221c1",
   "metadata": {},
   "outputs": [
    {
     "data": {
      "text/html": [
       "<div>\n",
       "<style scoped>\n",
       "    .dataframe tbody tr th:only-of-type {\n",
       "        vertical-align: middle;\n",
       "    }\n",
       "\n",
       "    .dataframe tbody tr th {\n",
       "        vertical-align: top;\n",
       "    }\n",
       "\n",
       "    .dataframe thead th {\n",
       "        text-align: right;\n",
       "    }\n",
       "</style>\n",
       "<table border=\"1\" class=\"dataframe\">\n",
       "  <thead>\n",
       "    <tr style=\"text-align: right;\">\n",
       "      <th></th>\n",
       "      <th>Feature</th>\n",
       "      <th>VIF</th>\n",
       "    </tr>\n",
       "  </thead>\n",
       "  <tbody>\n",
       "    <tr>\n",
       "      <th>2</th>\n",
       "      <td>int_rate</td>\n",
       "      <td>109.74</td>\n",
       "    </tr>\n",
       "    <tr>\n",
       "      <th>3</th>\n",
       "      <td>sub_grade</td>\n",
       "      <td>48.63</td>\n",
       "    </tr>\n",
       "    <tr>\n",
       "      <th>18</th>\n",
       "      <td>purpose_debt_consolidation</td>\n",
       "      <td>34.87</td>\n",
       "    </tr>\n",
       "    <tr>\n",
       "      <th>1</th>\n",
       "      <td>term</td>\n",
       "      <td>24.64</td>\n",
       "    </tr>\n",
       "    <tr>\n",
       "      <th>9</th>\n",
       "      <td>open_acc</td>\n",
       "      <td>13.82</td>\n",
       "    </tr>\n",
       "  </tbody>\n",
       "</table>\n",
       "</div>"
      ],
      "text/plain": [
       "                       Feature     VIF\n",
       "2                     int_rate  109.74\n",
       "3                    sub_grade   48.63\n",
       "18  purpose_debt_consolidation   34.87\n",
       "1                         term   24.64\n",
       "9                     open_acc   13.82"
      ]
     },
     "execution_count": 113,
     "metadata": {},
     "output_type": "execute_result"
    }
   ],
   "source": [
    "X.drop(columns=['application_type_INDIVIDUAL'], axis=1, inplace=True)\n",
    "calc_vif(X)[:5]"
   ]
  },
  {
   "cell_type": "code",
   "execution_count": 114,
   "id": "f5fac615",
   "metadata": {},
   "outputs": [
    {
     "data": {
      "text/html": [
       "<div>\n",
       "<style scoped>\n",
       "    .dataframe tbody tr th:only-of-type {\n",
       "        vertical-align: middle;\n",
       "    }\n",
       "\n",
       "    .dataframe tbody tr th {\n",
       "        vertical-align: top;\n",
       "    }\n",
       "\n",
       "    .dataframe thead th {\n",
       "        text-align: right;\n",
       "    }\n",
       "</style>\n",
       "<table border=\"1\" class=\"dataframe\">\n",
       "  <thead>\n",
       "    <tr style=\"text-align: right;\">\n",
       "      <th></th>\n",
       "      <th>Feature</th>\n",
       "      <th>VIF</th>\n",
       "    </tr>\n",
       "  </thead>\n",
       "  <tbody>\n",
       "    <tr>\n",
       "      <th>2</th>\n",
       "      <td>sub_grade</td>\n",
       "      <td>46.55</td>\n",
       "    </tr>\n",
       "    <tr>\n",
       "      <th>17</th>\n",
       "      <td>purpose_debt_consolidation</td>\n",
       "      <td>30.66</td>\n",
       "    </tr>\n",
       "    <tr>\n",
       "      <th>1</th>\n",
       "      <td>term</td>\n",
       "      <td>23.91</td>\n",
       "    </tr>\n",
       "    <tr>\n",
       "      <th>8</th>\n",
       "      <td>open_acc</td>\n",
       "      <td>13.72</td>\n",
       "    </tr>\n",
       "    <tr>\n",
       "      <th>12</th>\n",
       "      <td>total_acc</td>\n",
       "      <td>12.76</td>\n",
       "    </tr>\n",
       "  </tbody>\n",
       "</table>\n",
       "</div>"
      ],
      "text/plain": [
       "                       Feature    VIF\n",
       "2                    sub_grade  46.55\n",
       "17  purpose_debt_consolidation  30.66\n",
       "1                         term  23.91\n",
       "8                     open_acc  13.72\n",
       "12                   total_acc  12.76"
      ]
     },
     "execution_count": 114,
     "metadata": {},
     "output_type": "execute_result"
    }
   ],
   "source": [
    "X.drop(columns=['int_rate'], axis=1, inplace=True)\n",
    "calc_vif(X)[:5]"
   ]
  },
  {
   "cell_type": "code",
   "execution_count": 115,
   "id": "31825274",
   "metadata": {},
   "outputs": [
    {
     "data": {
      "text/html": [
       "<div>\n",
       "<style scoped>\n",
       "    .dataframe tbody tr th:only-of-type {\n",
       "        vertical-align: middle;\n",
       "    }\n",
       "\n",
       "    .dataframe tbody tr th {\n",
       "        vertical-align: top;\n",
       "    }\n",
       "\n",
       "    .dataframe thead th {\n",
       "        text-align: right;\n",
       "    }\n",
       "</style>\n",
       "<table border=\"1\" class=\"dataframe\">\n",
       "  <thead>\n",
       "    <tr style=\"text-align: right;\">\n",
       "      <th></th>\n",
       "      <th>Feature</th>\n",
       "      <th>VIF</th>\n",
       "    </tr>\n",
       "  </thead>\n",
       "  <tbody>\n",
       "    <tr>\n",
       "      <th>16</th>\n",
       "      <td>purpose_debt_consolidation</td>\n",
       "      <td>25.24</td>\n",
       "    </tr>\n",
       "    <tr>\n",
       "      <th>1</th>\n",
       "      <td>term</td>\n",
       "      <td>23.38</td>\n",
       "    </tr>\n",
       "    <tr>\n",
       "      <th>7</th>\n",
       "      <td>open_acc</td>\n",
       "      <td>13.67</td>\n",
       "    </tr>\n",
       "    <tr>\n",
       "      <th>11</th>\n",
       "      <td>total_acc</td>\n",
       "      <td>12.76</td>\n",
       "    </tr>\n",
       "    <tr>\n",
       "      <th>10</th>\n",
       "      <td>revol_util</td>\n",
       "      <td>9.08</td>\n",
       "    </tr>\n",
       "  </tbody>\n",
       "</table>\n",
       "</div>"
      ],
      "text/plain": [
       "                       Feature    VIF\n",
       "16  purpose_debt_consolidation  25.24\n",
       "1                         term  23.38\n",
       "7                     open_acc  13.67\n",
       "11                   total_acc  12.76\n",
       "10                  revol_util   9.08"
      ]
     },
     "execution_count": 115,
     "metadata": {},
     "output_type": "execute_result"
    }
   ],
   "source": [
    "X.drop(columns=['sub_grade'], axis=1, inplace=True)\n",
    "calc_vif(X)[:5]"
   ]
  },
  {
   "cell_type": "code",
   "execution_count": 116,
   "id": "d1656c4e",
   "metadata": {},
   "outputs": [
    {
     "data": {
      "text/html": [
       "<div>\n",
       "<style scoped>\n",
       "    .dataframe tbody tr th:only-of-type {\n",
       "        vertical-align: middle;\n",
       "    }\n",
       "\n",
       "    .dataframe tbody tr th {\n",
       "        vertical-align: top;\n",
       "    }\n",
       "\n",
       "    .dataframe thead th {\n",
       "        text-align: right;\n",
       "    }\n",
       "</style>\n",
       "<table border=\"1\" class=\"dataframe\">\n",
       "  <thead>\n",
       "    <tr style=\"text-align: right;\">\n",
       "      <th></th>\n",
       "      <th>Feature</th>\n",
       "      <th>VIF</th>\n",
       "    </tr>\n",
       "  </thead>\n",
       "  <tbody>\n",
       "    <tr>\n",
       "      <th>1</th>\n",
       "      <td>term</td>\n",
       "      <td>19.79</td>\n",
       "    </tr>\n",
       "    <tr>\n",
       "      <th>7</th>\n",
       "      <td>open_acc</td>\n",
       "      <td>13.25</td>\n",
       "    </tr>\n",
       "    <tr>\n",
       "      <th>11</th>\n",
       "      <td>total_acc</td>\n",
       "      <td>12.76</td>\n",
       "    </tr>\n",
       "    <tr>\n",
       "      <th>10</th>\n",
       "      <td>revol_util</td>\n",
       "      <td>8.39</td>\n",
       "    </tr>\n",
       "    <tr>\n",
       "      <th>4</th>\n",
       "      <td>annual_inc</td>\n",
       "      <td>7.87</td>\n",
       "    </tr>\n",
       "  </tbody>\n",
       "</table>\n",
       "</div>"
      ],
      "text/plain": [
       "       Feature    VIF\n",
       "1         term  19.79\n",
       "7     open_acc  13.25\n",
       "11   total_acc  12.76\n",
       "10  revol_util   8.39\n",
       "4   annual_inc   7.87"
      ]
     },
     "execution_count": 116,
     "metadata": {},
     "output_type": "execute_result"
    }
   ],
   "source": [
    "X.drop(columns=['purpose_debt_consolidation'], axis=1, inplace=True)\n",
    "calc_vif(X)[:5]"
   ]
  },
  {
   "cell_type": "code",
   "execution_count": 117,
   "id": "ed03bb84",
   "metadata": {},
   "outputs": [
    {
     "data": {
      "text/html": [
       "<div>\n",
       "<style scoped>\n",
       "    .dataframe tbody tr th:only-of-type {\n",
       "        vertical-align: middle;\n",
       "    }\n",
       "\n",
       "    .dataframe tbody tr th {\n",
       "        vertical-align: top;\n",
       "    }\n",
       "\n",
       "    .dataframe thead th {\n",
       "        text-align: right;\n",
       "    }\n",
       "</style>\n",
       "<table border=\"1\" class=\"dataframe\">\n",
       "  <thead>\n",
       "    <tr style=\"text-align: right;\">\n",
       "      <th></th>\n",
       "      <th>Feature</th>\n",
       "      <th>VIF</th>\n",
       "    </tr>\n",
       "  </thead>\n",
       "  <tbody>\n",
       "    <tr>\n",
       "      <th>6</th>\n",
       "      <td>open_acc</td>\n",
       "      <td>13.16</td>\n",
       "    </tr>\n",
       "    <tr>\n",
       "      <th>10</th>\n",
       "      <td>total_acc</td>\n",
       "      <td>12.72</td>\n",
       "    </tr>\n",
       "    <tr>\n",
       "      <th>9</th>\n",
       "      <td>revol_util</td>\n",
       "      <td>8.33</td>\n",
       "    </tr>\n",
       "    <tr>\n",
       "      <th>3</th>\n",
       "      <td>annual_inc</td>\n",
       "      <td>7.83</td>\n",
       "    </tr>\n",
       "    <tr>\n",
       "      <th>5</th>\n",
       "      <td>dti</td>\n",
       "      <td>7.75</td>\n",
       "    </tr>\n",
       "  </tbody>\n",
       "</table>\n",
       "</div>"
      ],
      "text/plain": [
       "       Feature    VIF\n",
       "6     open_acc  13.16\n",
       "10   total_acc  12.72\n",
       "9   revol_util   8.33\n",
       "3   annual_inc   7.83\n",
       "5          dti   7.75"
      ]
     },
     "execution_count": 117,
     "metadata": {},
     "output_type": "execute_result"
    }
   ],
   "source": [
    "X.drop(columns=['term'], axis=1, inplace=True)\n",
    "calc_vif(X)[:5]"
   ]
  },
  {
   "cell_type": "code",
   "execution_count": 118,
   "id": "0415ba98",
   "metadata": {},
   "outputs": [
    {
     "data": {
      "text/html": [
       "<div>\n",
       "<style scoped>\n",
       "    .dataframe tbody tr th:only-of-type {\n",
       "        vertical-align: middle;\n",
       "    }\n",
       "\n",
       "    .dataframe tbody tr th {\n",
       "        vertical-align: top;\n",
       "    }\n",
       "\n",
       "    .dataframe thead th {\n",
       "        text-align: right;\n",
       "    }\n",
       "</style>\n",
       "<table border=\"1\" class=\"dataframe\">\n",
       "  <thead>\n",
       "    <tr style=\"text-align: right;\">\n",
       "      <th></th>\n",
       "      <th>Feature</th>\n",
       "      <th>VIF</th>\n",
       "    </tr>\n",
       "  </thead>\n",
       "  <tbody>\n",
       "    <tr>\n",
       "      <th>9</th>\n",
       "      <td>total_acc</td>\n",
       "      <td>8.34</td>\n",
       "    </tr>\n",
       "    <tr>\n",
       "      <th>8</th>\n",
       "      <td>revol_util</td>\n",
       "      <td>8.02</td>\n",
       "    </tr>\n",
       "    <tr>\n",
       "      <th>3</th>\n",
       "      <td>annual_inc</td>\n",
       "      <td>7.75</td>\n",
       "    </tr>\n",
       "    <tr>\n",
       "      <th>5</th>\n",
       "      <td>dti</td>\n",
       "      <td>7.23</td>\n",
       "    </tr>\n",
       "    <tr>\n",
       "      <th>0</th>\n",
       "      <td>loan_amnt</td>\n",
       "      <td>6.75</td>\n",
       "    </tr>\n",
       "  </tbody>\n",
       "</table>\n",
       "</div>"
      ],
      "text/plain": [
       "      Feature   VIF\n",
       "9   total_acc  8.34\n",
       "8  revol_util  8.02\n",
       "3  annual_inc  7.75\n",
       "5         dti  7.23\n",
       "0   loan_amnt  6.75"
      ]
     },
     "execution_count": 118,
     "metadata": {},
     "output_type": "execute_result"
    }
   ],
   "source": [
    "X.drop(columns=['open_acc'], axis=1, inplace=True)\n",
    "calc_vif(X)[:5]"
   ]
  },
  {
   "cell_type": "markdown",
   "id": "358dd81c",
   "metadata": {},
   "source": [
    "### Cross Validation"
   ]
  },
  {
   "cell_type": "code",
   "execution_count": 119,
   "id": "63cbf5d4",
   "metadata": {},
   "outputs": [],
   "source": [
    "X_cv= scaler.fit_transform(X)"
   ]
  },
  {
   "cell_type": "code",
   "execution_count": 120,
   "id": "95c1c991",
   "metadata": {},
   "outputs": [],
   "source": [
    "from sklearn.model_selection import cross_val_score, KFold"
   ]
  },
  {
   "cell_type": "code",
   "execution_count": 121,
   "id": "6c2a1410",
   "metadata": {},
   "outputs": [],
   "source": [
    "kfold = KFold(n_splits=5)"
   ]
  },
  {
   "cell_type": "code",
   "execution_count": 122,
   "id": "04b20d3f",
   "metadata": {},
   "outputs": [],
   "source": [
    "cross_validation_score = np.mean(cross_val_score(log_reg, X_cv, y, cv=kfold, n_jobs=-1))"
   ]
  },
  {
   "cell_type": "code",
   "execution_count": 123,
   "id": "f607e6c6",
   "metadata": {},
   "outputs": [
    {
     "name": "stdout",
     "output_type": "stream",
     "text": [
      "Cross Validation Accuracy:  0.8912958018623758\n"
     ]
    }
   ],
   "source": [
    "print('Cross Validation Accuracy: ', cross_validation_score)"
   ]
  },
  {
   "cell_type": "markdown",
   "id": "f9493518",
   "metadata": {},
   "source": [
    "### Class weights balance the data"
   ]
  },
  {
   "cell_type": "code",
   "execution_count": 124,
   "id": "9845cc23",
   "metadata": {},
   "outputs": [],
   "source": [
    "from sklearn.utils.class_weight import compute_class_weight"
   ]
  },
  {
   "cell_type": "code",
   "execution_count": 125,
   "id": "8bbc4298",
   "metadata": {},
   "outputs": [],
   "source": [
    "# Computing class weights\n",
    "class_weights = compute_class_weight('balanced', classes=np.unique(y_train), y=y_train)\n",
    "class_weight_dict = {class_label: weight for class_label, weight in zip(np.unique(y_train), class_weights)}"
   ]
  },
  {
   "cell_type": "code",
   "execution_count": 126,
   "id": "df7063bf",
   "metadata": {},
   "outputs": [],
   "source": [
    "# Creating and training the model with class weights\n",
    "log_reg_balanced = LogisticRegression(class_weight=class_weight_dict , max_iter=1000)\n",
    "log_reg_balanced.fit(X_train, y_train)\n",
    "\n",
    "# Evaluate the model on the test set\n",
    "y_pred_class_weights = log_reg_balanced.predict(X_test)"
   ]
  },
  {
   "cell_type": "markdown",
   "id": "8ad7db08",
   "metadata": {},
   "source": [
    "#### Classification report for the improved model"
   ]
  },
  {
   "cell_type": "code",
   "execution_count": 127,
   "id": "cca0faf1",
   "metadata": {},
   "outputs": [
    {
     "name": "stdout",
     "output_type": "stream",
     "text": [
      "              precision    recall  f1-score   support\n",
      "\n",
      "           0       0.95      0.80      0.87     86425\n",
      "           1       0.49      0.82      0.61     20531\n",
      "\n",
      "    accuracy                           0.80    106956\n",
      "   macro avg       0.72      0.81      0.74    106956\n",
      "weighted avg       0.86      0.80      0.82    106956\n",
      "\n"
     ]
    }
   ],
   "source": [
    "print(classification_report(y_true=y_test, y_pred=y_pred_class_weights))"
   ]
  },
  {
   "cell_type": "code",
   "execution_count": 128,
   "id": "ca19f367",
   "metadata": {},
   "outputs": [
    {
     "data": {
      "image/png": "[encoded data removed]",
      "text/plain": [
       "<Figure size 576x432 with 1 Axes>"
      ]
     },
     "metadata": {
      "needs_background": "light"
     },
     "output_type": "display_data"
    }
   ],
   "source": [
    "y_scores_clw = log_reg_balanced.predict_proba(X_test)[:, 1] \n",
    "\n",
    "precision_clw, recall_clw, thresholds_clw = precision_recall_curve(y_test, y_scores_clw)\n",
    "\n",
    "# Plot Precision-Recall curve\n",
    "plt.figure(figsize=(8, 6))\n",
    "plt.plot(thresholds_clw, precision_clw[:-1], color='blue', label='Precision')\n",
    "plt.plot(thresholds_clw, recall_clw[:-1], color='green', label='Recall')\n",
    "\n",
    "plt.xlabel('Threshold value')\n",
    "plt.ylabel('Precision and Recall values')\n",
    "plt.title('Precision-Recall Curve')\n",
    "plt.legend(loc='best')\n",
    "plt.savefig('Precision-Recall curve - Improved')\n",
    "plt.grid()\n",
    "plt.show()"
   ]
  },
  {
   "cell_type": "code",
   "execution_count": null,
   "id": "62321d4e",
   "metadata": {},
   "outputs": [],
   "source": []
  },
  {
   "cell_type": "code",
   "execution_count": null,
   "id": "181d5ba3",
   "metadata": {},
   "outputs": [],
   "source": []
  },
  {
   "cell_type": "code",
   "execution_count": null,
   "id": "d6b8a4a9",
   "metadata": {},
   "outputs": [],
   "source": []
  },
  {
   "cell_type": "code",
   "execution_count": null,
   "id": "afc4a3ef",
   "metadata": {},
   "outputs": [],
   "source": []
  },
  {
   "cell_type": "code",
   "execution_count": null,
   "id": "aac13802",
   "metadata": {},
   "outputs": [],
   "source": []
  }
 ],
 "metadata": {
  "kernelspec": {
   "display_name": "Python 3 (ipykernel)",
   "language": "python",
   "name": "python3"
  },
  "language_info": {
   "codemirror_mode": {
    "name": "ipython",
    "version": 3
   },
   "file_extension": ".py",
   "mimetype": "text/x-python",
   "name": "python",
   "nbconvert_exporter": "python",
   "pygments_lexer": "ipython3",
   "version": "3.10.2"
  }
 },
 "nbformat": 4,
 "nbformat_minor": 5
}
